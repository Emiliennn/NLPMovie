{
 "cells": [
  {
   "cell_type": "markdown",
   "metadata": {},
   "source": [
    "<h1 style=\"color: cyan; text-align: center;\">Projet de Natural Language Processing : Analyse de sentiments des films de la plateforme TMDB</h1>"
   ]
  },
  {
   "cell_type": "markdown",
   "metadata": {},
   "source": [
    "# Introduction\n",
    "\n",
    "Ce document présente les codes Python appliqués dans le cadre du projet de traitement automatique du langage. Il présente les différentes étapes des démarches effectuées en les décrivant succintement. Pour plus de détail concernant ce travail, son objectif et sa réalisation, veuillez vous référer au document **demarche_projet.pdf** fourni avec l'ensemble des documents au moment du rendu.\n",
    "\n",
    "## <u>Objectifs :</u>\n",
    "\n",
    "Ce projet vise à développer une application interactive en Python fournissant aux utilisateurs des recommandations de films à regarder en priorité. Ces recommandations ne sont pas basées sur les moyens mis par les sociétés de production pour en faire la publicité mais uniquement sur le ressenti des utilisateurs. Cette approche vise à recommander films, qui pourraient être moins mis en avant dans les catalogues, pour donner de nouvelles idées au utilisateurs lorsqu'ils ne savent pas quoi regarder.\n",
    "\n",
    "Les notes affectées aux films, pour les classer en ordre de priorité à voir, seront calculées à partir d'une analyse de sentiments des avis déposés par les utilisateurs du site https://www.themoviedb.org. Une note par avis sera calculée puis une aggrégation sera effectuée pour créer un unique indicateur par film.\n",
    "\n",
    "\n",
    "<font color=\"red\">L'objectif à la fin sera aussi de comparer nos notes déterminées sur les avis à celles déposées par les utilisateurs si il y en a eu. En effet, il arrive que les utilisateurs déposent pour un film un avis écrit et une note sur 5.\n",
    "\n",
    "Ces avis pourraient en quelques sortes nous servir de base de test pour vérifier la fiabilité de nos analyses.\n",
    "</font>"
   ]
  },
  {
   "cell_type": "markdown",
   "metadata": {},
   "source": [
    "# Imports des librairies\n",
    "\n",
    "<font color=\"red\">Le package imdb est à importer via le code ci-dessous :</font>\n",
    "\n",
    "```bash\n",
    "pip install git+https://github.com/santhoshse7en/imdb\n",
    "```"
   ]
  },
  {
   "cell_type": "code",
   "execution_count": null,
   "metadata": {},
   "outputs": [],
   "source": [
    "from bs4 import BeautifulSoup\n",
    "from textblob import TextBlob\n",
    "import requests\n",
    "from datetime import datetime\n",
    "import json\n",
    "import re\n",
    "import pandas as pd\n",
    "from pprint import pprint\n",
    "from collections import Counter\n",
    "from nltk.corpus import stopwords\n",
    "import nltk\n",
    "from wordcloud import WordCloud\n",
    "import matplotlib.pyplot as plt\n",
    "from flask import Flask, render_template, request"
   ]
  },
  {
   "cell_type": "markdown",
   "metadata": {},
   "source": [
    "# Collecte et stockage des données\n",
    "\n",
    "Plusieurs techniques ont été explorées pour construire notre base de données *(voir rapport pdf pour plus d'explications)*:\n",
    "\n",
    "- L'API de TMDB : \"https://developers.themoviedb.org/3/\"\n",
    "- Scraping du site : imdb.com (via la librairie python : beautifulsoup4)\n",
    "- Utilisation de la librairie python : imdbpy\n",
    "\n",
    "La méthode que nous avons retenue est celle à partir de l'API de IMDb. "
   ]
  },
  {
   "cell_type": "markdown",
   "metadata": {},
   "source": [
    "Avant de travailler avec l'API, il est nécessaire de créer une clé d'accès à l'API du site de themoviedb. Celle que nous utilisons est stockée dans le fichier *clefAPI.json*.\n",
    "\n",
    "- Appel de la clé API de TMDB"
   ]
  },
  {
   "cell_type": "code",
   "execution_count": null,
   "metadata": {},
   "outputs": [],
   "source": [
    "with open('clefAPI.json', 'r') as config_file:\n",
    "    config = json.load(config_file)\n",
    "\n",
    "api_key = config['tmdb']['api_key']"
   ]
  },
  {
   "cell_type": "markdown",
   "metadata": {},
   "source": [
    "- Collecte des données\n",
    "\n",
    "Nous commençons par nous restreindre à une certaine période pour les dates de sorties de film afin de ne pas avoir à traiter l'ensemble de la base de données. Cela nous évitera un temps de traitement trop important.\n",
    "\n",
    "De plus, on on ne sélectionne que les films présents sur le site qui ont au minimum un avis déposé par un utilisateur."
   ]
  },
  {
   "cell_type": "code",
   "execution_count": null,
   "metadata": {},
   "outputs": [],
   "source": [
    "def get_movies_between_dates(start_date, end_date, api_key): # trouve les films sortis entre 2 dates\n",
    "    base_url = \"https://api.themoviedb.org/3/discover/movie\"\n",
    "    movies = []\n",
    "    page = 1\n",
    "    total_pages = 1\n",
    "\n",
    "    while page <= total_pages:\n",
    "        url = f\"{base_url}?api_key={api_key}&primary_release_date.gte={start_date}&primary_release_date.lte={end_date}&region=FR&page={page}\"\n",
    "        response = requests.get(url)\n",
    "        if response.status_code == 200:\n",
    "            data = response.json()\n",
    "            total_pages = data['total_pages']\n",
    "            movies.extend([(movie['id'], movie['title']) for movie in data['results']])\n",
    "            page += 1\n",
    "        else:\n",
    "            print(\"Erreur lors de la requête :\", response.status_code)\n",
    "            break\n",
    "    return movies\n",
    "\n",
    "def get_movie_reviews(movie_id, api_key): # retourne les avis d'un film\n",
    "    url = f\"https://api.themoviedb.org/3/movie/{movie_id}/reviews?api_key={api_key}\"\n",
    "    response = requests.get(url)\n",
    "    if response.status_code == 200:\n",
    "        data = response.json()\n",
    "        return data['results']\n",
    "    else:\n",
    "        print(f\"Erreur lors de la récupération des avis pour {movie_id}: {response.status_code}\")\n",
    "        return None\n",
    "\n",
    "def filter_movies_with_reviews(movies, api_key): # filtre les films qui ont des avis\n",
    "    movies_with_reviews = []\n",
    "    for movie_id, movie_title in movies:\n",
    "        reviews = get_movie_reviews(movie_id, api_key)\n",
    "        if reviews and len(reviews) > 0:\n",
    "            movies_with_reviews.append((movie_id, movie_title))\n",
    "    return movies_with_reviews"
   ]
  },
  {
   "cell_type": "code",
   "execution_count": null,
   "metadata": {},
   "outputs": [],
   "source": [
    "start_date = \"2022-01-01\"\n",
    "end_date = \"2022-03-31\"\n",
    "print(f\"Recherche des films sortis entre le {start_date} et le {end_date}\")\n",
    "\n",
    "movies = get_movies_between_dates(start_date, end_date, api_key)\n",
    "print(f\"Nombre de films trouvés : {len(movies)}\")\n",
    "\n",
    "movies_with_reviews = filter_movies_with_reviews(movies, api_key)\n",
    "print(f\"Nombre de films avec des avis de {start_date} à {end_date} : {len(movies_with_reviews)}\")"
   ]
  },
  {
   "cell_type": "markdown",
   "metadata": {},
   "source": [
    "## Structuration des données\n",
    "\n",
    "Maintenant que nous disposons des données brutes pour les films ayant un ou des avis sur une certaine période, il est nécessaire de structurer les données afin de faciliter leur utilisation ensuite."
   ]
  },
  {
   "cell_type": "code",
   "execution_count": null,
   "metadata": {},
   "outputs": [],
   "source": [
    "# Fonction qui etourne les informations sur un film et ses avis :\n",
    "\n",
    "def get_movie_details_and_reviews(movie_id, api_key): \n",
    "    base_url = \"https://api.themoviedb.org/3/movie/\"\n",
    "    url = f\"{base_url}{movie_id}?api_key={api_key}\"\n",
    "    response = requests.get(url)\n",
    "    movie_details = response.json() if response.status_code == 200 else {}\n",
    "    reviews_url = f\"{base_url}{movie_id}/reviews?api_key={api_key}\"\n",
    "    reviews_response = requests.get(reviews_url)\n",
    "    reviews_data = reviews_response.json() if reviews_response.status_code == 200 else {}\n",
    "    return movie_details, reviews_data\n",
    "\n",
    "# print(get_movie_details_and_reviews('tt0111161', api_key))"
   ]
  },
  {
   "cell_type": "markdown",
   "metadata": {},
   "source": [
    "On applique cette fonction à l'ensemble des films qui rentrent dans nos conditions."
   ]
  },
  {
   "cell_type": "code",
   "execution_count": null,
   "metadata": {},
   "outputs": [],
   "source": [
    "movies_details = {}\n",
    "\n",
    "for movie_id, movie_title in movies_with_reviews:\n",
    "    movie_details, reviews_data = get_movie_details_and_reviews(movie_id, api_key)\n",
    "    movies_details[movie_id] = {\n",
    "        'title': movie_title,\n",
    "        'details': movie_details,\n",
    "        'reviews': reviews_data\n",
    "    }"
   ]
  },
  {
   "cell_type": "markdown",
   "metadata": {},
   "source": [
    "Pour éviter de relancer à chaque fois les exécutions, dont les requêtes qui peuvent être assez longues, nous stockons la base créée dans un fichier *.json*. Il suffit simplement d'accéder à ce fichier par la suite sans faire de requêtes.\n",
    "\n",
    "<font color=\"red\">Revoir le nom du fichier</font>"
   ]
  },
  {
   "cell_type": "code",
   "execution_count": null,
   "metadata": {},
   "outputs": [],
   "source": [
    "# with open('movies_details_3mois.json', 'w') as json_file: \n",
    "#    json.dump(movies_details, json_file, indent=4)"
   ]
  },
  {
   "cell_type": "markdown",
   "metadata": {},
   "source": [
    "# Présentation des données\n",
    "\n",
    "Avant de se lancer dans l'analyse de sentiments, nous allons d'abord présenter les données dont nous disposons.\n",
    "\n",
    "\n",
    "# <font color=\"red\">Tout remettre au propre: on relie à chaque fois le fichier json: non</font>"
   ]
  },
  {
   "cell_type": "code",
   "execution_count": null,
   "metadata": {},
   "outputs": [],
   "source": [
    "with open('movies_details_3mois.json', 'r') as json_file:\n",
    "    movies_details = json.load(json_file)\n",
    "\n",
    "pprint(movies_details)"
   ]
  },
  {
   "cell_type": "code",
   "execution_count": null,
   "metadata": {},
   "outputs": [],
   "source": [
    "num_films = len(movies_details)\n",
    "print(\"Nombres de films:\", num_films)\n",
    "\n",
    "try:\n",
    "    with open('movies_details_3mois.json', 'r') as file:\n",
    "        movies_details = json.load(file)\n",
    "    reviews_count = {}\n",
    "    for movie in movies_details.values():\n",
    "        num_reviews = len(movie['reviews']['results'])\n",
    "        movie_id = movie['reviews']['id']\n",
    "        reviews_count[movie_id] = num_reviews\n",
    "    for movie_id, count in reviews_count.items():\n",
    "        print(f\"Film ID {movie_id}: Nombre d'avis = {count}\")\n",
    "except Exception as e:\n",
    "    print(f\"Erreur lors de la lecture du fichier JSON: {e}\")"
   ]
  },
  {
   "cell_type": "markdown",
   "metadata": {},
   "source": [
    "Regardons par exemple la détail des informations pour un film; ici, le film dont l'ID est **646385**."
   ]
  },
  {
   "cell_type": "code",
   "execution_count": null,
   "metadata": {},
   "outputs": [],
   "source": [
    "fichier_json = 'movies_details_3mois.json'\n",
    "movie_id_to_check = 646385\n",
    "\n",
    "try:\n",
    "    with open(fichier_json, 'r') as file:\n",
    "        movies_details = json.load(file)\n",
    "\n",
    "    selected_movie = movies_details[str(movie_id_to_check)]\n",
    "    reviews = selected_movie['reviews']['results']\n",
    "    \n",
    "    for review in reviews:\n",
    "        print(f\"Auteur : {review['author']}\")\n",
    "        print(f\"Rating : {review['author_details']['rating']}\")\n",
    "        print(f\"Contenu : {review['content']}\\n\")\n",
    "\n",
    "except Exception as e:\n",
    "    print(f\"Erreur lors de la lecture du fichier JSON: {e}\")"
   ]
  },
  {
   "cell_type": "markdown",
   "metadata": {},
   "source": [
    "<font color=\"red\">Rajouter quelques stats globales</font>"
   ]
  },
  {
   "cell_type": "markdown",
   "metadata": {},
   "source": [
    "# Traitement des données\n",
    "\n",
    "Avant d'analyser le sens des avis laissés par les utilisateurs, il est nécessaire d'effectuer certeins traitements.\n",
    "\n",
    "- On va d'abord créer une fonction clean_avis qui va nous permettre de nettoyer les commentaires récupérés sur TMDB. On va supprimer les caractères spéciaux, les mots vides et on va mettre tous les mots en minuscule. Pour cela on va s'aider de la librairie nltk et de son module stopwords et de la librairie re.\n",
    "\n",
    "- Ensuite on va construire une fonction qui va nous permettre de compter le nombre d'occurence de chaque mot dans les commentaires. On utilisera notamment la fonction Counter de la librairie collections.\n",
    "\n",
    "<font color=\"red\">PENSER A RETIRER LES MOTS INUTILES, IL Y EN A ENCORE APRES LE CLEAN</font>\n"
   ]
  },
  {
   "cell_type": "code",
   "execution_count": null,
   "metadata": {},
   "outputs": [],
   "source": [
    "stop_words = set(stopwords.words('english'))\n",
    "\n",
    "def clean_avis(text):\n",
    "    mots_a_retirer = ['film', 'movie']\n",
    "    all_stopwords = stop_words.union(set(mots_a_retirer))\n",
    "    all_stopwords = list(stop_words) + mots_a_retirer\n",
    "    text = re.sub('[^a-zA-Z]', ' ', text).lower()\n",
    "    words = [word for word in text.split() if word not in all_stopwords]\n",
    "    return words\n",
    "\n",
    "def analyse_word_freq(movie_reviews):\n",
    "    all_words = []\n",
    "    for review in movie_reviews:\n",
    "        all_words.extend(clean_avis(review['content']))\n",
    "    word_counts = Counter(all_words)\n",
    "    most_common_words = word_counts.most_common(10)\n",
    "    return most_common_words\n",
    "\n",
    "word_freq_film = {}\n",
    "\n",
    "for movie_id, movie_details in movies_details.items():\n",
    "    reviews = movie_details['reviews']['results']\n",
    "    most_common_words = analyse_word_freq(reviews)\n",
    "    word_freq_film[movie_id] = most_common_words\n",
    "\n",
    "for movie_id, frequencies in word_freq_film.items():\n",
    "    print(f\"{movies_details[movie_id]['title']}\\nMots les plus fréquents {frequencies}\\n\")"
   ]
  },
  {
   "cell_type": "markdown",
   "metadata": {},
   "source": [
    "# Mise en place des éléments calculés pour présenter les films\n",
    "\n",
    "<font color=\"red\">L'objectif de cette partie est de réaliser les calculs d'indicateurs et d'autres contenus qui seront affichés sur les pages individuelles des films.</font>\n",
    "\n",
    "## WordClouds\n",
    "\n",
    "Pour commencer, nous réalisons des WordClouds pour que l'utilisateur puisse, en cliquant sur un film, disposer des thèmes principaux qui sont évoqués lorsque l'on parle d'un film."
   ]
  },
  {
   "cell_type": "code",
   "execution_count": null,
   "metadata": {},
   "outputs": [],
   "source": [
    "def create_wordcloud(text, movie_id):\n",
    "    wordcloud = WordCloud(width = 800, height = 800, \n",
    "                background_color ='white', \n",
    "                stopwords = stop_words, \n",
    "                min_font_size = 10).generate(' '.join(text))\n",
    "    wordcloud.to_file(f\"static/wordclouds/{movie_id}.png\")\n",
    "    \n",
    "for movie_id, movie_details in movies_details.items():\n",
    "    reviews = movie_details['reviews']['results']\n",
    "    review_text = [review['content'] for review in reviews]\n",
    "    cleaned_text = []\n",
    "    for text in review_text:\n",
    "        cleaned_text.extend(clean_avis(text))\n",
    "    create_wordcloud(cleaned_text, movie_id)"
   ]
  },
  {
   "cell_type": "markdown",
   "metadata": {},
   "source": [
    "## Mise en place des informations par catégorie de film\n",
    "\n",
    "L'objectif de l'application est de présenter une liste de film, ordonnée par ordre de priorité, à voir. Nous avons fait le choix de demander à l'utilisateur de renseigner un genre dans l'application afin de séparer les films en fonction de ses envies.\n",
    "\n",
    "- Pour voir les genres présents dans notre base de données :"
   ]
  },
  {
   "cell_type": "code",
   "execution_count": null,
   "metadata": {},
   "outputs": [],
   "source": [
    "def extract_unique_genres(file_path):\n",
    "    with open(file_path, 'r') as file:\n",
    "        movies_details = json.load(file)\n",
    "\n",
    "    unique_genres = set()\n",
    "    for movie in movies_details.values():\n",
    "        genres = movie.get('details', {}).get('genres', [])\n",
    "        for genre in genres:\n",
    "            unique_genres.add(genre['name'])\n",
    "\n",
    "    return unique_genres\n",
    "\n",
    "genres_uniques = extract_unique_genres('movies_details_3mois.json')\n",
    "print(\"Genres uniques :\", genres_uniques)"
   ]
  },
  {
   "cell_type": "markdown",
   "metadata": {},
   "source": [
    "## Analyse des sentiments des avis\n",
    "\n",
    "Afin de réaliser un classement des films à voir, il est nécessaire de résumer chaque film par un indicateur. Celui que nous avons choisi est la moyenne de l'ensemble des notes déterminées à partir des avis (puisque chaque film de la base possède au moins un avis)."
   ]
  },
  {
   "cell_type": "code",
   "execution_count": null,
   "metadata": {},
   "outputs": [],
   "source": [
    "def analyse_sentiment(text): # fonction d'analyse de sentiments\n",
    "    return TextBlob(text).sentiment.polarity\n",
    "\n",
    "def calculate_movie_polarity(movie_reviews): # calcul la polarité moyenne de tous les avis d'un film\n",
    "    total_polarity = 0\n",
    "    num_reviews = len(movie_reviews)\n",
    "\n",
    "    for review in movie_reviews:\n",
    "        total_polarity += analyse_sentiment(review['content'])\n",
    "\n",
    "    return total_polarity / num_reviews if num_reviews > 0 else 0\n",
    "\n",
    "def genre_top_movies(file_path):\n",
    "    with open(file_path, 'r') as file:\n",
    "        movies_details = json.load(file)\n",
    "\n",
    "    genre_movies = {genre: [] for genre in genres_uniques}\n",
    "\n",
    "    for movie_id, movie in movies_details.items():\n",
    "        movie_polarity = calculate_movie_polarity(movie['reviews']['results'])\n",
    "        movie_genres = [genre['name'] for genre in movie['details']['genres']]\n",
    "\n",
    "        for genre in movie_genres:\n",
    "            if genre in genre_movies:\n",
    "                genre_movies[genre].append((movie_id, movie['title'], movie_polarity))\n",
    "\n",
    "    top_movies_per_genre = {}\n",
    "\n",
    "    for genre, movies in genre_movies.items():\n",
    "        top_movies = sorted(movies, key=lambda x: x[2], reverse=True)[:3]\n",
    "        top_movies_per_genre[genre] = top_movies\n",
    "\n",
    "    return top_movies_per_genre\n",
    "    # renvoie un dictionnaire où chaque clé est un genre et chaque valeur est une liste de tuples \n",
    "    # contenant l'ID, le titre et la polarité moyenne des 3 meilleurs films de ce genre\n",
    "\n",
    "top_movies = genre_top_movies('movies_details_3mois.json')\n",
    "print(top_movies)"
   ]
  },
  {
   "cell_type": "markdown",
   "metadata": {},
   "source": [
    "# Création de l'application finale\n",
    "\n",
    "NOus finissons par créer un support visuel pour présenter nos résultats."
   ]
  },
  {
   "cell_type": "code",
   "execution_count": null,
   "metadata": {},
   "outputs": [],
   "source": [
    "app = Flask(__name__)\n",
    "\n",
    "def polarity_to_stars(polarity):\n",
    "    return round(polarity * 10)\n",
    "\n",
    "app.jinja_env.globals.update(polarity_to_stars=polarity_to_stars)\n",
    "\n",
    "@app.route('/', methods=['GET', 'POST'])\n",
    "def index():\n",
    "    genres = list(top_movies.keys())\n",
    "    selected_genre = request.form.get('genre')\n",
    "    top_movies_genre = top_movies.get(selected_genre, []) if selected_genre else []\n",
    "\n",
    "    movies_with_images = []\n",
    "    for movie_id, movie_title, polarity in top_movies_genre:\n",
    "        image_url = movies_details[movie_id].get(\"image_url\", \"\")\n",
    "        movies_with_images.append((movie_id, movie_title, polarity, image_url))\n",
    "\n",
    "    return render_template('index2.html', genres=genres, top_movies_genre=movies_with_images, selected_genre=selected_genre)\n",
    "\n",
    "if __name__ == '__main__':\n",
    "    app.run(debug=False, use_reloader=False)"
   ]
  }
 ],
 "metadata": {
  "language_info": {
   "name": "python"
  }
 },
 "nbformat": 4,
 "nbformat_minor": 2
}
