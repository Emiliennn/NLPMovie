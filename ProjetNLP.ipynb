{
 "cells": [
  {
   "cell_type": "markdown",
   "metadata": {},
   "source": [
    "#### Introduction et objectifs du projet\n",
    "\n",
    "##### <u>Contexte :</u>\n",
    "\n",
    "L'analyse de sentiments est un domaine essentiel en science des données, en particulier en NLP. Elle utilise le machine learning et la linguistique pour détecter, extraire et étudier les émotions et les informations subjectives dans les textes sources.\n",
    "\n",
    "Dans le contexte des avis de films, l'analyse de sentiments permet de comprendre les perceptions et les émotions des spectateurs à partir de leurs commentaires, ce qui est précieux pour les critiques de films, les studios de cinéma et les plateformes de streaming.\n",
    "\n",
    "##### <u>Objectifs :</u>\n",
    "\n",
    "Ce projet vise à développer une application interactive en Python permettant aux utilisateurs de demander des analyses de sentiments sur des films spécifiques. Les objectifs de l'application sont les suivants :\n",
    "\n",
    "1. Permettre aux utilisateurs de saisir un titre de film ou son ID pour récupérer des avis pertinents.\n",
    "\n",
    "2. Analyser les sentiments exprimés dans ces avis, en calculant la polarité (positivité ou négativité des sentiments) et la subjectivité (mesure de l'opinion personnelle par rapport à un fait objectif) des commentaires.\n",
    "\n",
    "3. Comparer les \"ratings\" (notes) des films avec la polarité des avis pour voir si les évaluations numériques correspondent aux sentiments exprimés dans les commentaires.\n",
    "\n",
    "4. Examiner les différences, le cas échéant, entre les sentiments exprimés avant et après la sortie du film, fournissant ainsi une perspective unique sur l'évolution des perceptions des spectateurs.\n",
    "\n",
    "##### <u>Méthodes de récupération des données :</u>\n",
    "\n",
    "Dans un premier temps, pour éviter de surcharger l'API de TMDB et de devoir gérer des bases de données trop volumineuses, nous avons décidé de limiter notre étude aux films sortis entre x et y. Une fois cette sélection effectuée, nous avons procédé à la récupération des données via 3 méthodes différentes :\n",
    "\n",
    "- L'API de TMDB : \"https://developers.themoviedb.org/3/\"\n",
    "- Scraping du site : imdb.com (via la librairie python : beautifulsoup4)\n",
    "- Utilisation de la librairie python : imdbpy\n",
    "\n",
    "L'objectif de cette section est de comparer les différentes méthodes de récupération des données afin de déterminer laquelle est la plus efficace et la plus pertinente pour notre projet.\n",
    "Dans une première approche il était question de tester les 3 méthodes, voir les avantages et inconvénients de chacune d'entre elles, de savoir si elles étaient complémentaires ou non, et de déterminer laquelle était la plus efficace et la plus pertinente pour notre projet.\n",
    "\n",
    "Dans un second temps l'objectif est de structurer les données récupérées afin de pouvoir les exploiter dans la suite du projet. Si possible par une seule des méthodes de récupération des données mentionnées ci-dessus.\n",
    "\n",
    "Ensuite, il s'agira de mettre en place une méthode d'analyse de sentiments sur les commentaires récupérés, il existe des librairies python qui permettent de faire cela, mais il est également possible de créer notre propre méthode d'analyse de sentiments. \n",
    "\n",
    "Choix numéro 1 : Réaliser nos propres méthodes d'analyse de sentiments.\n",
    "\n",
    "Choix numéro 2 : Utiliser des librairies python existantes tel que : TextBlob, NLTK.\n",
    "\n",
    "Enfin il s'agira de mettre en place une application interactive en python permettant aux utilisateurs de demander des analyses de sentiments sur des films spécifiques.\n"
   ]
  },
  {
   "cell_type": "markdown",
   "metadata": {},
   "source": [
    "#### <u>Partie 1 : import des librairies</u>\n",
    "\n",
    "- package imdb à importer via le code ci-dessous : (important qu'il soit installé sur la machine et qu'il soit à jour)"
   ]
  },
  {
   "cell_type": "code",
   "execution_count": null,
   "metadata": {},
   "outputs": [],
   "source": [
    "#pip install git+https://github.com/santhoshse7en/imdb"
   ]
  },
  {
   "cell_type": "code",
   "execution_count": 3,
   "metadata": {},
   "outputs": [],
   "source": [
    "#from imdb import IMDb\n",
    "from bs4 import BeautifulSoup\n",
    "from textblob import TextBlob\n",
    "import requests\n",
    "from datetime import datetime\n",
    "import json\n",
    "import re\n",
    "import pandas as pd"
   ]
  },
  {
   "cell_type": "markdown",
   "metadata": {},
   "source": [
    "- Appel de la clé API de TMDB "
   ]
  },
  {
   "cell_type": "code",
   "execution_count": 4,
   "metadata": {},
   "outputs": [],
   "source": [
    "with open('clefAPI.json', 'r') as config_file:\n",
    "    config = json.load(config_file)\n",
    "\n",
    "api_key = config['tmdb']['api_key']"
   ]
  },
  {
   "cell_type": "markdown",
   "metadata": {},
   "source": [
    "#### <u>Méthode 1 : scraping du site imdb.com </u>\n",
    "\n",
    "Première étape : on va tester notre procédé sur un seul film, pour voir si ça fonctionne, et si oui, on pourra ensuite l'appliquer à tous les films de notre base de données.\n",
    "\n",
    "Étape crucial : on doit récupérer la date de sortie du film, pour pouvoir ensuite récupérer les commentaires avant et après la sortie du film. \n",
    "\n",
    "The Shawshank Redemption : ID sur le site de TMDB : \"tt0111161\""
   ]
  },
  {
   "cell_type": "code",
   "execution_count": 15,
   "metadata": {},
   "outputs": [
    {
     "name": "stdout",
     "output_type": "stream",
     "text": [
      "Date de sortie du film : 1994-09-23 00:00:00\n",
      "Nombre d'avis pour ce film : 25\n"
     ]
    }
   ],
   "source": [
    "film_id = 'tt0111161'\n",
    "\n",
    "url_date_release = f\"https://api.themoviedb.org/3/movie/{film_id}?api_key={api_key}&language=en-US\"\n",
    "\n",
    "response = requests.get(url_date_release)\n",
    "\n",
    "if response.status_code == 200:\n",
    "    film_details = response.json()\n",
    "    date_sortie_str = film_details.get(\"release_date\", \"\")\n",
    "    if date_sortie_str:\n",
    "        date_sortie = datetime.strptime(date_sortie_str, \"%Y-%m-%d\")\n",
    "        print(f\"Date de sortie du film : {date_sortie}\")\n",
    "    else:\n",
    "        print(\"Date de sortie non trouvée\")\n",
    "else:\n",
    "    print(\"Erreur lors de la requête :\", response.status_code)\n",
    "\n",
    "url_film = f\"https://www.imdb.com/title/{film_id}/reviews\" # Récupérer les avis sur IMDb\n",
    "\n",
    "response = requests.get(url_film)\n",
    "\n",
    "reviews_dict = {}\n",
    "\n",
    "if response.status_code == 200:\n",
    "    soup = BeautifulSoup(response.content, 'html.parser')\n",
    "    review_elements = soup.find_all('div', class_='review-container')\n",
    "    for element in review_elements:\n",
    "        review_text = element.find('div', class_='text show-more__control').get_text().strip()\n",
    "        review_date_str = element.find('span', class_='review-date').get_text().strip()\n",
    "        review_date = datetime.strptime(review_date_str, '%d %B %Y').date()\n",
    "        reviews_dict[review_date] = review_text\n",
    "else:\n",
    "    print(\"Erreur lors de la requête :\", response.status_code)\n",
    "\n",
    "print(\"Nombre d'avis pour ce film :\",len(reviews_dict)) "
   ]
  },
  {
   "cell_type": "markdown",
   "metadata": {},
   "source": [
    "- Objectif : voir si on a assez de commentaires avant et après la sortie du film pour pouvoir faire une analyse de sentiments."
   ]
  },
  {
   "cell_type": "code",
   "execution_count": 16,
   "metadata": {},
   "outputs": [
    {
     "name": "stdout",
     "output_type": "stream",
     "text": [
      "Nombre d'avis avant la sortie du film : 0\n",
      "Nombre d'avis après la sortie du film : 25\n"
     ]
    }
   ],
   "source": [
    "avis_avant = {}\n",
    "avis_apres = {}\n",
    "\n",
    "for review_date, review_text in reviews_dict.items():\n",
    "    if review_date < date_sortie.date():\n",
    "        avis_avant[review_date] = review_text\n",
    "    else:\n",
    "        avis_apres[review_date] = review_text\n",
    "\n",
    "print(\"Nombre d'avis avant la sortie du film :\", len(avis_avant))\n",
    "print(\"Nombre d'avis après la sortie du film :\", len(avis_apres))"
   ]
  },
  {
   "cell_type": "markdown",
   "metadata": {},
   "source": [
    "On constate alors qu'avant la sortie du film, on a 0 commentaires, et après la sortie du film, on a 25 commentaire. On ne peut donc pas faire d'analyse de sentiments sur ce film. Et en testant sur d'autres films, on se rend compte que c'est le cas pour tous des films de notre base de données. Afin de réaliser le projet dans son intégralité, il faudrait donc récupérer les commentaires sur une autre plateforme que TMDB. Toutefois nous manquons de temps et d'expérience pour réaliser cela. Nous allons donc nous contenter de réaliser une analyse de sentiments sur les commentaires récupérés sur TMDB."
   ]
  },
  {
   "cell_type": "markdown",
   "metadata": {},
   "source": [
    "- Affichage des 5 premiers commentaires récupérés sur TMDB pour ce premier film :"
   ]
  },
  {
   "cell_type": "code",
   "execution_count": 17,
   "metadata": {},
   "outputs": [
    {
     "name": "stdout",
     "output_type": "stream",
     "text": [
      "Avis après la sortie:\n",
      "2010-07-24: The Shawshank Redemption is written and directed by Frank Darabont. It is an adaptation of the Stephen King novella Rita Hayworth and Shawshank Redemption. Starring Tim Robbins and Morgan Freeman, the film portrays the story of Andy Dufresne (Robbins), a banker who is sentenced to two life sentences at Shawshank State Prison for apparently murdering his wife and her lover. Andy finds it tough going but finds solace in the friendship he forms with fellow inmate Ellis \"Red\" Redding (Freeman). While things start to pick up when the warden finds Andy a prison job more befitting his talents as a banker. However, the arrival of another inmate is going to vastly change things for all of them.There was no fanfare or bunting put out for the release of the film back in 94, with a title that didn't give much inkling to anyone about what it was about, and with Columbia Pictures unsure how to market it, Shawshank Redemption barely registered at the box office. However, come Academy Award time the film received several nominations, and although it won none, it stirred up interest in the film for its home entertainment release. The rest, as they say, is history. For the film finally found an audience that saw the film propelled to almost mythical proportions as an endearing modern day classic. Something that has delighted its fans, whilst simultaneously baffling its detractors. One thing is for sure, though, is that which ever side of the Shawshank fence you sit on, the film continues to gather new fans and simply will never go away or loose that mythical status.It's possibly the simplicity of it all that sends some haters of the film into cinematic spasms. The implausible plot and an apparent sentimental edge that makes a nonsense of prison life, are but two chief complaints from those that dislike the film with a passion. Yet when characters are this richly drawn, and so movingly performed, it strikes me as churlish to do down a human drama that's dealing in hope, friendship and faith. The sentimental aspect is indeed there, but that acts as a counterpoint to the suffering, degradation and shattering of the soul involving our protagonist. Cosy prison life you say? No chance. The need for human connection is never more needed than during incarceration, surely? And given the quite terrific performances of Robbins (never better) & Freeman (sublimely making it easy), it's the easiest thing in the world to warm to Andy and Red.Those in support aren't faring too bad either. Bob Gunton is coiled spring smarm as Warden Norton, James Whitmore is heart achingly great as the \"Birdman Of Shawshank,\" Clancy Brown is menacing as antagonist Capt. Byron Hadley, William Sadler amusing as Heywood & Mark Rolston is impressively vile as Bogs Diamond. Then there's Roger Deakins' lush cinematography as the camera gracefully glides in and out of the prison offering almost ethereal hope to our characters (yes, they are ours). The music pings in conjunction with the emotional flow of the movie too. Thomas Newman's score is mostly piano based, dovetailing neatly with Andy's state of mind, while the excellently selected soundtrack ranges from the likes of Hank Williams to the gorgeous Le Nozze di Figaro by Mozart.If you love Shawshank then it's a love that lasts a lifetime. Every viewing brings the same array of emotions - anger - revilement - happiness - sadness - inspiration and a warmth that can reduce the most hardened into misty eyed wonderment. Above all else, though, Shawshank offers hope - not just for characters in a movie - but for a better life and a better world for all of us. 10/10.\n",
      "\n",
      "2021-02-17: It is no wonder that the film has such a high rating, it is quite literally breathtaking. What can I say that hasn't said before? Not much, it's the story, the acting, the premise, but most of all, this movie is about how it makes you feel. Sometimes you watch a film, and can't remember it days later, this film loves with you, once you've seen it, you don't forget.The ultimate story of friendship, of hope, and of life, and overcoming adversity.I understand why so many class this as the best film of all time, it isn't mine, but I get it. If you haven't seen it, or haven't seen it for some time, you need to watch it, it's amazing. 10/10.\n",
      "\n",
      "2005-11-21: I'm trying to save you money; this is the last film title that you should consider borrowing. Renting Shawshank will cost you five bucks... just plunk down the $25 and own the title. You'll wind up going back to this gem time and time again. This is one of few movies that are truly timeless. And it's entertaining and moving, no matter how many times you view it.Forget about what others (including myself) might suggest you'll discover in \"The Shawshank Redemption;\" when you watch it, you'll identify something very personal in your own life with a scene, a character, or a moment in this uncomplicated movie. When you need hope, you'll look for Shawshank. When you want to believe in the will of overcoming even the greatest obstacles, Shawshank will uplift you in ways that you can't find in movies today. Some liken the film to some kind of spiritual awakening. Of course, some can go to a church or mosque to find enlightenment and Faith in humanity, but most places of worship are open only certain days or times. But when you need affirmation of the lasting bond of friendships that prevail over the most dire circumstances, Shawshank will give it to you. It makes grown men (like me) cry, still. I wonder whether Shawshank was truly meant for viewing in the privacy of the home, because it is a personal experience that really makes you look inward. Nominated for seven, this is the best film that never one a single Oscar. How ironic that an innocent man winds up being surrounded by the corruption of the legal system. Shawshank itself is similar to the character of Andy Dufresne. Prejudging this classic film, critics couldn't get past the title. The public followed suit, initially dismissing Shawshank, which failed in the box office just like \"It's a Wonderful Life\" and \"Citizen Kane.\" It could have just whithered away on the store shelves, like Andy Dufresne could have in his own cell. But the characters prevailed, because Andy -- And Shawshank -- stayed true. Now, these movies are right up there as the most popular films of all time. Anyone who has yet to watch Shawshank may be so jaded of movies, or the film's title, or how a 2-1/2- hour movie set inside the walls of a prison can manage to tap the soul of such a wide range of people. Shawshank has not one explosion. I wonder if it even has a single special effect or digitally- enhanced frame. But every aspect of Shawshank fit together. The acting from the top to the bit part. The musical score. The editing. The photography. The story, from opening credits to final scene. All involved, including the town of Mansfield, Ohio (where Shawshank was actually filmed) played their roles perfectly. Shawshank is a must- see, must- own title.\n",
      "\n",
      "2008-02-18: This movie is not your ordinary Hollywood flick. It has a great and deep message. This movie has a foundation and just kept on being built on from their and that foundation is hope.Other than just the message of this movie the acting was phenomenal. Tim Robbins gave one of the greatest performances ever. He was inspiring, intelligent and most of all positive. His performance just made me smile. Robbins plays Andy Dufresne who was wrongfully convicted of murdering his wife and her lover. He is gets to life sentences but yet never gives up hope. In he becomes friends with Ellis Boyd \"Red\" Redding played by Morgan Freeman. Freeman who gives the finest performance of his career has unlike Robbins lost hope. He is in deep regret of the crime that he committed. His way of deflecting the pain away is by trying to not feel anything at all. With his friendship with Andy he learns that without our hopes and dreams we have nothing. Andy also becomes friends with the rest of Red's group. James Whitmore also gave a great performance as Brooks Halten who gets out of prison parole but in the words of Red he has been \"institutionalized\". The directing by Frank Darabont was just magnificent. He kept this movie at a great steady pace along with the writing and great cinematography. He portrayed prison life in such a horrifying way, but not in terms of the physical pain but the stress and pain that wares mentally on the inmates, some of which deserve a second chance. Whatever you do, don't listen to the people who say this movie is overrated because this is one of the most inspiring and greatest movies ever. It has everything you could possibly want.\n",
      "\n",
      "2020-10-08: The best movie in history and the best ending in any entertainment business\n",
      "\n"
     ]
    }
   ],
   "source": [
    "print(\"Avis après la sortie:\")\n",
    "for date, review in list(avis_apres.items())[:5]:\n",
    "    print(f\"{date}: {review}\\n\")"
   ]
  },
  {
   "cell_type": "markdown",
   "metadata": {},
   "source": [
    "#### <u>Méthode 2 : utilisation de l'API </u>"
   ]
  },
  {
   "cell_type": "code",
   "execution_count": 21,
   "metadata": {},
   "outputs": [
    {
     "name": "stdout",
     "output_type": "stream",
     "text": [
      "Recherche des films sortis entre le 2022-01-01 et le 2022-01-31 [(557946, 'Last Looks'), (774825, 'The Ice Age Adventures of Buck Wild'), (646385, 'Scream'), (899082, 'Harry Potter 20th Anniversary: Return to Hogwarts'), (854867, 'Werewolf Castle'), (575322, 'Project Gemini'), (926899, 'The House'), (698508, 'Redeeming Love'), (522016, 'The 355'), (245842, \"The King's Daughter\"), (760926, 'Gold'), (803114, 'The Requin'), (661791, 'La Abuela (The Grandmother)'), (916740, 'Brazen'), (591120, 'The Pirates: The Last Royal Treasure'), (689700, 'Clean'), (778810, 'Fireheart'), (825808, 'See for Me'), (766907, 'American Siege'), (760336, 'Munich: The Edge of War')]\n"
     ]
    }
   ],
   "source": [
    "def get_movies_between_dates(start_date, end_date, api_key):\n",
    "    base_url = \"https://api.themoviedb.org/3/discover/movie\"\n",
    "    url = f\"{base_url}?api_key={api_key}&primary_release_date.gte={start_date}&primary_release_date.lte={end_date}&region=FR\"\n",
    "    response = requests.get(url)\n",
    "    if response.status_code == 200:\n",
    "        movies_data = response.json()['results']\n",
    "        return [(movie['id'], movie['title']) for movie in movies_data] # AJOUTER DATE SORTIE\n",
    "    else:\n",
    "        print(\"Erreur lors de la requête :\", response.status_code)\n",
    "        return []\n",
    "    \n",
    "start_date = \"2022-01-01\"\n",
    "end_date = \"2022-01-31\"\n",
    "\n",
    "print(f\"Recherche des films sortis entre le {start_date} et le {end_date}\", end=\" \")\n",
    "print(get_movies_between_dates(start_date, end_date, api_key))"
   ]
  },
  {
   "cell_type": "code",
   "execution_count": 26,
   "metadata": {},
   "outputs": [
    {
     "ename": "ImportError",
     "evalue": "cannot import name 'Cinemagoer' from 'imdb' (c:\\Users\\pc\\anaconda3\\Lib\\site-packages\\imdb\\__init__.py)",
     "output_type": "error",
     "traceback": [
      "\u001b[1;31m---------------------------------------------------------------------------\u001b[0m",
      "\u001b[1;31mImportError\u001b[0m                               Traceback (most recent call last)",
      "Cell \u001b[1;32mIn[26], line 1\u001b[0m\n\u001b[1;32m----> 1\u001b[0m \u001b[38;5;28;01mfrom\u001b[39;00m \u001b[38;5;21;01mimdb\u001b[39;00m \u001b[38;5;28;01mimport\u001b[39;00m Cinemagoer\n\u001b[0;32m      3\u001b[0m \u001b[38;5;66;03m# create an instance of the Cinemagoer class\u001b[39;00m\n\u001b[0;32m      4\u001b[0m ia \u001b[38;5;241m=\u001b[39m Cinemagoer()\n",
      "\u001b[1;31mImportError\u001b[0m: cannot import name 'Cinemagoer' from 'imdb' (c:\\Users\\pc\\anaconda3\\Lib\\site-packages\\imdb\\__init__.py)"
     ]
    }
   ],
   "source": []
  }
 ],
 "metadata": {
  "kernelspec": {
   "display_name": "base",
   "language": "python",
   "name": "python3"
  },
  "language_info": {
   "codemirror_mode": {
    "name": "ipython",
    "version": 3
   },
   "file_extension": ".py",
   "mimetype": "text/x-python",
   "name": "python",
   "nbconvert_exporter": "python",
   "pygments_lexer": "ipython3",
   "version": "3.11.5"
  }
 },
 "nbformat": 4,
 "nbformat_minor": 2
}
