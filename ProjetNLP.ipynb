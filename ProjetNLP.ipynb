{
 "cells": [
  {
   "cell_type": "markdown",
   "metadata": {},
   "source": [
    "### Projet de Natural Language Processing : Analyse de sentiments des films de la plateforme IMDB"
   ]
  },
  {
   "cell_type": "markdown",
   "metadata": {},
   "source": [
    "### Introduction et objectifs du projet\n",
    "\n",
    "#### <u>Contexte :</u>\n",
    "\n",
    "L'analyse de sentiments est un domaine essentiel en science des données, en particulier en NLP. Elle utilise le machine learning et la linguistique pour détecter, extraire et étudier les émotions et les informations subjectives dans les textes sources.\n",
    "\n",
    "Dans le contexte des avis de films, l'analyse de sentiments permet de comprendre les perceptions et les émotions des spectateurs à partir de leurs commentaires, ce qui est précieux pour les critiques de films, les studios de cinéma et les plateformes de streaming.\n",
    "\n",
    "#### <u>Objectifs :</u>\n",
    "\n",
    "Ce projet vise à développer une application interactive en Python permettant aux utilisateurs de demander des analyses de sentiments sur des films spécifiques. Les objectifs de l'application sont les suivants :\n",
    "\n",
    "1. Permettre aux utilisateurs de saisir un titre de film ou son ID pour récupérer des avis pertinents.\n",
    "\n",
    "2. Analyser les sentiments exprimés dans ces avis, en calculant la polarité (positivité ou négativité des sentiments) et la subjectivité (mesure de l'opinion personnelle par rapport à un fait objectif) des commentaires.\n",
    "\n",
    "3. Comparer les \"ratings\" (notes) des films avec la polarité des avis pour voir si les évaluations numériques correspondent aux sentiments exprimés dans les commentaires.\n",
    "\n",
    "4. Examiner les différences, le cas échéant, entre les sentiments exprimés avant et après la sortie du film, fournissant ainsi une perspective unique sur l'évolution des perceptions des spectateurs.\n",
    "\n",
    "#### <u>Méthodes de récupération des données :</u>\n",
    "\n",
    "Dans un premier temps, pour éviter de surcharger l'API de TMDB et de devoir gérer des bases de données trop volumineuses, nous avons décidé de limiter notre étude aux films sortis entre x et y. Une fois cette sélection effectuée, nous avons procédé à la récupération des données via 3 méthodes différentes :\n",
    "\n",
    "- L'API de TMDB : \"https://developers.themoviedb.org/3/\"\n",
    "- Scraping du site : imdb.com (via la librairie python : beautifulsoup4)\n",
    "- Utilisation de la librairie python : imdbpy\n",
    "\n",
    "L'objectif de cette section est de comparer les différentes méthodes de récupération des données afin de déterminer laquelle est la plus efficace et la plus pertinente pour notre projet.\n",
    "Dans une première approche il était question de tester les 3 méthodes, voir les avantages et inconvénients de chacune d'entre elles, de savoir si elles étaient complémentaires ou non, et de déterminer laquelle était la plus efficace et la plus pertinente pour notre projet.\n",
    "\n",
    "Dans un second temps l'objectif est de structurer les données récupérées afin de pouvoir les exploiter dans la suite du projet. Si possible par une seule des méthodes de récupération des données mentionnées ci-dessus.\n",
    "\n",
    "Ensuite, il s'agira de mettre en place une méthode d'analyse de sentiments sur les commentaires récupérés, il existe des librairies python qui permettent de faire cela, mais il est également possible de créer notre propre méthode d'analyse de sentiments. \n",
    "\n",
    "Choix numéro 1 : Réaliser nos propres méthodes d'analyse de sentiments.\n",
    "\n",
    "Choix numéro 2 : Utiliser des librairies python existantes tel que : TextBlob, NLTK.\n",
    "\n",
    "Enfin il s'agira de mettre en place une application interactive en python permettant aux utilisateurs de demander des analyses de sentiments sur des films spécifiques.\n"
   ]
  },
  {
   "cell_type": "markdown",
   "metadata": {},
   "source": [
    "#### <u>Import des librairies</u>\n",
    "\n",
    "- package imdb à importer via le code ci-dessous : (important qu'il soit installé sur la machine et qu'il soit à jour)"
   ]
  },
  {
   "cell_type": "code",
   "execution_count": 1,
   "metadata": {},
   "outputs": [],
   "source": [
    "#pip install git+https://github.com/santhoshse7en/imdb"
   ]
  },
  {
   "cell_type": "code",
   "execution_count": 2,
   "metadata": {},
   "outputs": [],
   "source": [
    "from bs4 import BeautifulSoup\n",
    "from textblob import TextBlob\n",
    "import requests\n",
    "from datetime import datetime\n",
    "import json\n",
    "import re\n",
    "import pandas as pd"
   ]
  },
  {
   "cell_type": "markdown",
   "metadata": {},
   "source": [
    "- Appel de la clé API de TMDB "
   ]
  },
  {
   "cell_type": "code",
   "execution_count": 3,
   "metadata": {},
   "outputs": [],
   "source": [
    "with open('clefAPI.json', 'r') as config_file:\n",
    "    config = json.load(config_file)\n",
    "\n",
    "api_key = config['tmdb']['api_key']"
   ]
  },
  {
   "cell_type": "markdown",
   "metadata": {},
   "source": [
    "#### <u>Méthode 1 : scraping du site imdb.com </u>\n",
    "\n",
    "Première étape : on va tester notre procédé sur un seul film, pour voir si ça fonctionne, et si oui, on pourra ensuite l'appliquer à tous les films de notre base de données.\n",
    "\n",
    "Étape crucial : on doit récupérer la date de sortie du film, pour pouvoir ensuite récupérer les commentaires avant et après la sortie du film. \n",
    "\n",
    "The Shawshank Redemption : ID sur le site de TMDB : \"tt0111161\""
   ]
  },
  {
   "cell_type": "code",
   "execution_count": 4,
   "metadata": {},
   "outputs": [
    {
     "name": "stdout",
     "output_type": "stream",
     "text": [
      "Date de sortie du film : 1994-09-23 00:00:00\n",
      "Nombre d'avis pour ce film : 25\n"
     ]
    }
   ],
   "source": [
    "film_id = 'tt0111161'\n",
    "\n",
    "url_date_release = f\"https://api.themoviedb.org/3/movie/{film_id}?api_key={api_key}&language=en-US\"\n",
    "\n",
    "response = requests.get(url_date_release)\n",
    "\n",
    "if response.status_code == 200:\n",
    "    film_details = response.json()\n",
    "    date_sortie_str = film_details.get(\"release_date\", \"\")\n",
    "    if date_sortie_str:\n",
    "        date_sortie = datetime.strptime(date_sortie_str, \"%Y-%m-%d\")\n",
    "        print(f\"Date de sortie du film : {date_sortie}\")\n",
    "    else:\n",
    "        print(\"Date de sortie non trouvée\")\n",
    "else:\n",
    "    print(\"Erreur lors de la requête :\", response.status_code)\n",
    "\n",
    "url_film = f\"https://www.imdb.com/title/{film_id}/reviews\" # Récupérer les avis sur IMDb\n",
    "\n",
    "response = requests.get(url_film)\n",
    "\n",
    "reviews_dict = {}\n",
    "\n",
    "if response.status_code == 200:\n",
    "    soup = BeautifulSoup(response.content, 'html.parser')\n",
    "    review_elements = soup.find_all('div', class_='review-container')\n",
    "    for element in review_elements:\n",
    "        review_text = element.find('div', class_='text show-more__control').get_text().strip()\n",
    "        review_date_str = element.find('span', class_='review-date').get_text().strip()\n",
    "        review_date = datetime.strptime(review_date_str, '%d %B %Y').date()\n",
    "        reviews_dict[review_date] = review_text\n",
    "else:\n",
    "    print(\"Erreur lors de la requête :\", response.status_code)\n",
    "\n",
    "print(\"Nombre d'avis pour ce film :\",len(reviews_dict)) "
   ]
  },
  {
   "cell_type": "markdown",
   "metadata": {},
   "source": [
    "- Objectif : voir si on a assez de commentaires avant et après la sortie du film pour pouvoir faire une analyse de sentiments."
   ]
  },
  {
   "cell_type": "code",
   "execution_count": 5,
   "metadata": {},
   "outputs": [
    {
     "name": "stdout",
     "output_type": "stream",
     "text": [
      "Nombre d'avis avant la sortie du film : 0\n",
      "Nombre d'avis après la sortie du film : 25\n"
     ]
    }
   ],
   "source": [
    "avis_avant = {}\n",
    "avis_apres = {}\n",
    "\n",
    "for review_date, review_text in reviews_dict.items():\n",
    "    if review_date < date_sortie.date():\n",
    "        avis_avant[review_date] = review_text\n",
    "    else:\n",
    "        avis_apres[review_date] = review_text\n",
    "\n",
    "print(\"Nombre d'avis avant la sortie du film :\", len(avis_avant))\n",
    "print(\"Nombre d'avis après la sortie du film :\", len(avis_apres))"
   ]
  },
  {
   "cell_type": "markdown",
   "metadata": {},
   "source": [
    "On constate alors qu'avant la sortie du film, on a 0 commentaires, et après la sortie du film, on a 25 commentaire. On ne peut donc pas faire d'analyse de sentiments sur ce film. Et en testant sur d'autres films, on se rend compte que c'est le cas pour tous des films de notre base de données. Afin de réaliser le projet dans son intégralité, il faudrait donc récupérer les commentaires sur une autre plateforme que TMDB. Toutefois nous manquons de temps et d'expérience pour réaliser cela. Nous allons donc nous contenter de réaliser une analyse de sentiments sur les commentaires récupérés sur TMDB."
   ]
  },
  {
   "cell_type": "markdown",
   "metadata": {},
   "source": [
    "- Affichage des 5 premiers commentaires récupérés sur TMDB pour ce premier film :"
   ]
  },
  {
   "cell_type": "code",
   "execution_count": 6,
   "metadata": {},
   "outputs": [
    {
     "name": "stdout",
     "output_type": "stream",
     "text": [
      "Avis après la sortie:\n",
      "2010-07-24: The Shawshank Redemption is written and directed by Frank Darabont. It is an adaptation of the Stephen King novella Rita Hayworth and Shawshank Redemption. Starring Tim Robbins and Morgan Freeman, the film portrays the story of Andy Dufresne (Robbins), a banker who is sentenced to two life sentences at Shawshank State Prison for apparently murdering his wife and her lover. Andy finds it tough going but finds solace in the friendship he forms with fellow inmate Ellis \"Red\" Redding (Freeman). While things start to pick up when the warden finds Andy a prison job more befitting his talents as a banker. However, the arrival of another inmate is going to vastly change things for all of them.There was no fanfare or bunting put out for the release of the film back in 94, with a title that didn't give much inkling to anyone about what it was about, and with Columbia Pictures unsure how to market it, Shawshank Redemption barely registered at the box office. However, come Academy Award time the film received several nominations, and although it won none, it stirred up interest in the film for its home entertainment release. The rest, as they say, is history. For the film finally found an audience that saw the film propelled to almost mythical proportions as an endearing modern day classic. Something that has delighted its fans, whilst simultaneously baffling its detractors. One thing is for sure, though, is that which ever side of the Shawshank fence you sit on, the film continues to gather new fans and simply will never go away or loose that mythical status.It's possibly the simplicity of it all that sends some haters of the film into cinematic spasms. The implausible plot and an apparent sentimental edge that makes a nonsense of prison life, are but two chief complaints from those that dislike the film with a passion. Yet when characters are this richly drawn, and so movingly performed, it strikes me as churlish to do down a human drama that's dealing in hope, friendship and faith. The sentimental aspect is indeed there, but that acts as a counterpoint to the suffering, degradation and shattering of the soul involving our protagonist. Cosy prison life you say? No chance. The need for human connection is never more needed than during incarceration, surely? And given the quite terrific performances of Robbins (never better) & Freeman (sublimely making it easy), it's the easiest thing in the world to warm to Andy and Red.Those in support aren't faring too bad either. Bob Gunton is coiled spring smarm as Warden Norton, James Whitmore is heart achingly great as the \"Birdman Of Shawshank,\" Clancy Brown is menacing as antagonist Capt. Byron Hadley, William Sadler amusing as Heywood & Mark Rolston is impressively vile as Bogs Diamond. Then there's Roger Deakins' lush cinematography as the camera gracefully glides in and out of the prison offering almost ethereal hope to our characters (yes, they are ours). The music pings in conjunction with the emotional flow of the movie too. Thomas Newman's score is mostly piano based, dovetailing neatly with Andy's state of mind, while the excellently selected soundtrack ranges from the likes of Hank Williams to the gorgeous Le Nozze di Figaro by Mozart.If you love Shawshank then it's a love that lasts a lifetime. Every viewing brings the same array of emotions - anger - revilement - happiness - sadness - inspiration and a warmth that can reduce the most hardened into misty eyed wonderment. Above all else, though, Shawshank offers hope - not just for characters in a movie - but for a better life and a better world for all of us. 10/10.\n",
      "\n",
      "2021-02-17: It is no wonder that the film has such a high rating, it is quite literally breathtaking. What can I say that hasn't said before? Not much, it's the story, the acting, the premise, but most of all, this movie is about how it makes you feel. Sometimes you watch a film, and can't remember it days later, this film loves with you, once you've seen it, you don't forget.The ultimate story of friendship, of hope, and of life, and overcoming adversity.I understand why so many class this as the best film of all time, it isn't mine, but I get it. If you haven't seen it, or haven't seen it for some time, you need to watch it, it's amazing. 10/10.\n",
      "\n",
      "2005-11-21: I'm trying to save you money; this is the last film title that you should consider borrowing. Renting Shawshank will cost you five bucks... just plunk down the $25 and own the title. You'll wind up going back to this gem time and time again. This is one of few movies that are truly timeless. And it's entertaining and moving, no matter how many times you view it.Forget about what others (including myself) might suggest you'll discover in \"The Shawshank Redemption;\" when you watch it, you'll identify something very personal in your own life with a scene, a character, or a moment in this uncomplicated movie. When you need hope, you'll look for Shawshank. When you want to believe in the will of overcoming even the greatest obstacles, Shawshank will uplift you in ways that you can't find in movies today. Some liken the film to some kind of spiritual awakening. Of course, some can go to a church or mosque to find enlightenment and Faith in humanity, but most places of worship are open only certain days or times. But when you need affirmation of the lasting bond of friendships that prevail over the most dire circumstances, Shawshank will give it to you. It makes grown men (like me) cry, still. I wonder whether Shawshank was truly meant for viewing in the privacy of the home, because it is a personal experience that really makes you look inward. Nominated for seven, this is the best film that never one a single Oscar. How ironic that an innocent man winds up being surrounded by the corruption of the legal system. Shawshank itself is similar to the character of Andy Dufresne. Prejudging this classic film, critics couldn't get past the title. The public followed suit, initially dismissing Shawshank, which failed in the box office just like \"It's a Wonderful Life\" and \"Citizen Kane.\" It could have just whithered away on the store shelves, like Andy Dufresne could have in his own cell. But the characters prevailed, because Andy -- And Shawshank -- stayed true. Now, these movies are right up there as the most popular films of all time. Anyone who has yet to watch Shawshank may be so jaded of movies, or the film's title, or how a 2-1/2- hour movie set inside the walls of a prison can manage to tap the soul of such a wide range of people. Shawshank has not one explosion. I wonder if it even has a single special effect or digitally- enhanced frame. But every aspect of Shawshank fit together. The acting from the top to the bit part. The musical score. The editing. The photography. The story, from opening credits to final scene. All involved, including the town of Mansfield, Ohio (where Shawshank was actually filmed) played their roles perfectly. Shawshank is a must- see, must- own title.\n",
      "\n",
      "2008-02-18: This movie is not your ordinary Hollywood flick. It has a great and deep message. This movie has a foundation and just kept on being built on from their and that foundation is hope.Other than just the message of this movie the acting was phenomenal. Tim Robbins gave one of the greatest performances ever. He was inspiring, intelligent and most of all positive. His performance just made me smile. Robbins plays Andy Dufresne who was wrongfully convicted of murdering his wife and her lover. He is gets to life sentences but yet never gives up hope. In he becomes friends with Ellis Boyd \"Red\" Redding played by Morgan Freeman. Freeman who gives the finest performance of his career has unlike Robbins lost hope. He is in deep regret of the crime that he committed. His way of deflecting the pain away is by trying to not feel anything at all. With his friendship with Andy he learns that without our hopes and dreams we have nothing. Andy also becomes friends with the rest of Red's group. James Whitmore also gave a great performance as Brooks Halten who gets out of prison parole but in the words of Red he has been \"institutionalized\". The directing by Frank Darabont was just magnificent. He kept this movie at a great steady pace along with the writing and great cinematography. He portrayed prison life in such a horrifying way, but not in terms of the physical pain but the stress and pain that wares mentally on the inmates, some of which deserve a second chance. Whatever you do, don't listen to the people who say this movie is overrated because this is one of the most inspiring and greatest movies ever. It has everything you could possibly want.\n",
      "\n",
      "2020-10-08: The best movie in history and the best ending in any entertainment business\n",
      "\n"
     ]
    }
   ],
   "source": [
    "print(\"Avis après la sortie:\")\n",
    "for date, review in list(avis_apres.items())[:5]:\n",
    "    print(f\"{date}: {review}\\n\")"
   ]
  },
  {
   "cell_type": "markdown",
   "metadata": {},
   "source": [
    "#### <u>Méthode 2 : utilisation de l'API </u>"
   ]
  },
  {
   "cell_type": "code",
   "execution_count": 41,
   "metadata": {},
   "outputs": [
    {
     "name": "stdout",
     "output_type": "stream",
     "text": [
      "Recherche des films sortis entre le 2022-01-01 et le 2022-12-31 [(76600, 'Avatar: The Way of Water'), (457232, 'Lamborghini: The Man Behind the Legend'), (315162, 'Puss in Boots: The Last Wish'), (606870, 'The Survivor'), (436270, 'Black Adam'), (833326, 'Zero Fucks Given'), (414906, 'The Batman'), (505642, 'Black Panther: Wakanda Forever'), (675353, 'Sonic the Hedgehog 2'), (361743, 'Top Gun: Maverick'), (1028318, 'Goodbye Monster'), (585083, 'Hotel Transylvania: Transformania'), (453395, 'Doctor Strange in the Multiverse of Madness'), (507086, 'Jurassic World Dominion'), (438148, 'Minions: The Rise of Gru'), (829560, 'The Next 365 Days'), (616037, 'Thor: Love and Thunder'), (760104, 'X'), (899112, 'Violent Night'), (744276, 'After Ever Happy')]\n"
     ]
    }
   ],
   "source": [
    "def get_movies_between_dates(start_date, end_date, api_key):\n",
    "    base_url = \"https://api.themoviedb.org/3/discover/movie\"\n",
    "    url = f\"{base_url}?api_key={api_key}&primary_release_date.gte={start_date}&primary_release_date.lte={end_date}&region=FR\"\n",
    "    response = requests.get(url)\n",
    "    if response.status_code == 200:\n",
    "        movies_data = response.json()['results']\n",
    "        return [(movie['id'], movie['title']) for movie in movies_data]\n",
    "    else:\n",
    "        print(\"Erreur lors de la requête :\", response.status_code)\n",
    "        return []\n",
    "    \n",
    "start_date = \"2022-01-01\" # FONCTIONNE ! On peut donc définir la période de recherche que l'on souhaite\n",
    "end_date = \"2022-01-31\" \n",
    "\n",
    "print(f\"Recherche des films sortis entre le {start_date} et le {end_date}\", end=\" \")\n",
    "print(get_movies_between_dates(start_date, end_date, api_key))"
   ]
  },
  {
   "cell_type": "markdown",
   "metadata": {},
   "source": [
    "<font color=\"red\">NE PAS RELANCER SINON ECRASEMENT DE MON DICTIONNAIRE ET 7 MIN DE LANCEMENT</font>"
   ]
  },
  {
   "cell_type": "code",
   "execution_count": 49,
   "metadata": {},
   "outputs": [
    {
     "name": "stdout",
     "output_type": "stream",
     "text": [
      "Recherche des films sortis entre le 2022-01-01 et le 2022-03-31\n",
      "Nombre de films avec des avis de 2022-01-01 à 2022-03-31 : 83\n",
      "Nombre de films trouvés : 925\n"
     ]
    }
   ],
   "source": [
    "def get_movies_between_dates(start_date, end_date, api_key):\n",
    "    base_url = \"https://api.themoviedb.org/3/discover/movie\"\n",
    "    movies = []\n",
    "    page = 1\n",
    "    total_pages = 1\n",
    "\n",
    "    while page <= total_pages:\n",
    "        url = f\"{base_url}?api_key={api_key}&primary_release_date.gte={start_date}&primary_release_date.lte={end_date}&region=FR&page={page}\"\n",
    "        response = requests.get(url)\n",
    "        if response.status_code == 200:\n",
    "            data = response.json()\n",
    "            total_pages = data['total_pages']\n",
    "            movies.extend([(movie['id'], movie['title']) for movie in data['results']])\n",
    "            page += 1\n",
    "        else:\n",
    "            print(\"Erreur lors de la requête :\", response.status_code)\n",
    "            break\n",
    "    return movies\n",
    "\n",
    "def get_movie_reviews(movie_id, api_key):\n",
    "    url = f\"https://api.themoviedb.org/3/movie/{movie_id}/reviews?api_key={api_key}\"\n",
    "    response = requests.get(url)\n",
    "    if response.status_code == 200:\n",
    "        data = response.json()\n",
    "        return data['results']\n",
    "    else:\n",
    "        print(f\"Erreur lors de la récupération des avis pour {movie_id}: {response.status_code}\")\n",
    "        return None\n",
    "\n",
    "def filter_movies_with_reviews(movies, api_key):\n",
    "    movies_with_reviews = []\n",
    "    for movie_id, movie_title in movies:\n",
    "        reviews = get_movie_reviews(movie_id, api_key)\n",
    "        if reviews and len(reviews) > 0:\n",
    "            movies_with_reviews.append((movie_id, movie_title))\n",
    "    return movies_with_reviews\n",
    "\n",
    "\n",
    "start_date = \"2022-01-01\"\n",
    "end_date = \"2022-03-31\"\n",
    "\n",
    "print(f\"Recherche des films sortis entre le {start_date} et le {end_date}\")\n",
    "\n",
    "movies = get_movies_between_dates(start_date, end_date, api_key)\n",
    "movies_with_reviews = filter_movies_with_reviews(movies, api_key)\n",
    "\n",
    "print(f\"Nombre de films avec des avis de {start_date} à {end_date} : {len(movies_with_reviews)}\")\n",
    "\n",
    "print(f\"Nombre de films trouvés : {len(movies)}\")"
   ]
  },
  {
   "cell_type": "markdown",
   "metadata": {},
   "source": [
    "#### <u>Méthode 3 : utilisation de la librairie python : imdbpy</u>"
   ]
  },
  {
   "cell_type": "code",
   "execution_count": null,
   "metadata": {},
   "outputs": [],
   "source": [
    "# from cinemagoer import IMDb\n",
    "# ia = IMDb()\n",
    "# movie = ia.get_movie('0111161')  # Pour 'The Shawshank Redemption'\n",
    "# print(movie['title'])  # Afficher le titre du film\n",
    "#!pip show IMDbPY"
   ]
  },
  {
   "cell_type": "markdown",
   "metadata": {},
   "source": [
    "#### <u>Récupération des données via la méthode de scraping du site imdb.com</u>"
   ]
  },
  {
   "cell_type": "code",
   "execution_count": 9,
   "metadata": {},
   "outputs": [
    {
     "name": "stdout",
     "output_type": "stream",
     "text": [
      "{datetime.datetime(2010, 7, 24, 0, 0): 'The Shawshank Redemption is written and directed by Frank Darabont. It is an adaptation of the Stephen King novella Rita Hayworth and Shawshank Redemption. Starring Tim Robbins and Morgan Freeman, the film portrays the story of Andy Dufresne (Robbins), a banker who is sentenced to two life sentences at Shawshank State Prison for apparently murdering his wife and her lover. Andy finds it tough going but finds solace in the friendship he forms with fellow inmate Ellis \"Red\" Redding (Freeman). While things start to pick up when the warden finds Andy a prison job more befitting his talents as a banker. However, the arrival of another inmate is going to vastly change things for all of them.There was no fanfare or bunting put out for the release of the film back in 94, with a title that didn\\'t give much inkling to anyone about what it was about, and with Columbia Pictures unsure how to market it, Shawshank Redemption barely registered at the box office. However, come Academy Award time the film received several nominations, and although it won none, it stirred up interest in the film for its home entertainment release. The rest, as they say, is history. For the film finally found an audience that saw the film propelled to almost mythical proportions as an endearing modern day classic. Something that has delighted its fans, whilst simultaneously baffling its detractors. One thing is for sure, though, is that which ever side of the Shawshank fence you sit on, the film continues to gather new fans and simply will never go away or loose that mythical status.It\\'s possibly the simplicity of it all that sends some haters of the film into cinematic spasms. The implausible plot and an apparent sentimental edge that makes a nonsense of prison life, are but two chief complaints from those that dislike the film with a passion. Yet when characters are this richly drawn, and so movingly performed, it strikes me as churlish to do down a human drama that\\'s dealing in hope, friendship and faith. The sentimental aspect is indeed there, but that acts as a counterpoint to the suffering, degradation and shattering of the soul involving our protagonist. Cosy prison life you say? No chance. The need for human connection is never more needed than during incarceration, surely? And given the quite terrific performances of Robbins (never better) & Freeman (sublimely making it easy), it\\'s the easiest thing in the world to warm to Andy and Red.Those in support aren\\'t faring too bad either. Bob Gunton is coiled spring smarm as Warden Norton, James Whitmore is heart achingly great as the \"Birdman Of Shawshank,\" Clancy Brown is menacing as antagonist Capt. Byron Hadley, William Sadler amusing as Heywood & Mark Rolston is impressively vile as Bogs Diamond. Then there\\'s Roger Deakins\\' lush cinematography as the camera gracefully glides in and out of the prison offering almost ethereal hope to our characters (yes, they are ours). The music pings in conjunction with the emotional flow of the movie too. Thomas Newman\\'s score is mostly piano based, dovetailing neatly with Andy\\'s state of mind, while the excellently selected soundtrack ranges from the likes of Hank Williams to the gorgeous Le Nozze di Figaro by Mozart.If you love Shawshank then it\\'s a love that lasts a lifetime. Every viewing brings the same array of emotions - anger - revilement - happiness - sadness - inspiration and a warmth that can reduce the most hardened into misty eyed wonderment. Above all else, though, Shawshank offers hope - not just for characters in a movie - but for a better life and a better world for all of us. 10/10.', datetime.datetime(2021, 2, 17, 0, 0): \"It is no wonder that the film has such a high rating, it is quite literally breathtaking. What can I say that hasn't said before? Not much, it's the story, the acting, the premise, but most of all, this movie is about how it makes you feel. Sometimes you watch a film, and can't remember it days later, this film loves with you, once you've seen it, you don't forget.The ultimate story of friendship, of hope, and of life, and overcoming adversity.I understand why so many class this as the best film of all time, it isn't mine, but I get it. If you haven't seen it, or haven't seen it for some time, you need to watch it, it's amazing. 10/10.\", datetime.datetime(2005, 11, 21, 0, 0): 'I\\'m trying to save you money; this is the last film title that you should consider borrowing. Renting Shawshank will cost you five bucks... just plunk down the $25 and own the title. You\\'ll wind up going back to this gem time and time again. This is one of few movies that are truly timeless. And it\\'s entertaining and moving, no matter how many times you view it.Forget about what others (including myself) might suggest you\\'ll discover in \"The Shawshank Redemption;\" when you watch it, you\\'ll identify something very personal in your own life with a scene, a character, or a moment in this uncomplicated movie. When you need hope, you\\'ll look for Shawshank. When you want to believe in the will of overcoming even the greatest obstacles, Shawshank will uplift you in ways that you can\\'t find in movies today. Some liken the film to some kind of spiritual awakening. Of course, some can go to a church or mosque to find enlightenment and Faith in humanity, but most places of worship are open only certain days or times. But when you need affirmation of the lasting bond of friendships that prevail over the most dire circumstances, Shawshank will give it to you. It makes grown men (like me) cry, still. I wonder whether Shawshank was truly meant for viewing in the privacy of the home, because it is a personal experience that really makes you look inward. Nominated for seven, this is the best film that never one a single Oscar. How ironic that an innocent man winds up being surrounded by the corruption of the legal system. Shawshank itself is similar to the character of Andy Dufresne. Prejudging this classic film, critics couldn\\'t get past the title. The public followed suit, initially dismissing Shawshank, which failed in the box office just like \"It\\'s a Wonderful Life\" and \"Citizen Kane.\" It could have just whithered away on the store shelves, like Andy Dufresne could have in his own cell. But the characters prevailed, because Andy -- And Shawshank -- stayed true. Now, these movies are right up there as the most popular films of all time. Anyone who has yet to watch Shawshank may be so jaded of movies, or the film\\'s title, or how a 2-1/2- hour movie set inside the walls of a prison can manage to tap the soul of such a wide range of people. Shawshank has not one explosion. I wonder if it even has a single special effect or digitally- enhanced frame. But every aspect of Shawshank fit together. The acting from the top to the bit part. The musical score. The editing. The photography. The story, from opening credits to final scene. All involved, including the town of Mansfield, Ohio (where Shawshank was actually filmed) played their roles perfectly. Shawshank is a must- see, must- own title.', datetime.datetime(2008, 2, 18, 0, 0): 'This movie is not your ordinary Hollywood flick. It has a great and deep message. This movie has a foundation and just kept on being built on from their and that foundation is hope.Other than just the message of this movie the acting was phenomenal. Tim Robbins gave one of the greatest performances ever. He was inspiring, intelligent and most of all positive. His performance just made me smile. Robbins plays Andy Dufresne who was wrongfully convicted of murdering his wife and her lover. He is gets to life sentences but yet never gives up hope. In he becomes friends with Ellis Boyd \"Red\" Redding played by Morgan Freeman. Freeman who gives the finest performance of his career has unlike Robbins lost hope. He is in deep regret of the crime that he committed. His way of deflecting the pain away is by trying to not feel anything at all. With his friendship with Andy he learns that without our hopes and dreams we have nothing. Andy also becomes friends with the rest of Red\\'s group. James Whitmore also gave a great performance as Brooks Halten who gets out of prison parole but in the words of Red he has been \"institutionalized\". The directing by Frank Darabont was just magnificent. He kept this movie at a great steady pace along with the writing and great cinematography. He portrayed prison life in such a horrifying way, but not in terms of the physical pain but the stress and pain that wares mentally on the inmates, some of which deserve a second chance. Whatever you do, don\\'t listen to the people who say this movie is overrated because this is one of the most inspiring and greatest movies ever. It has everything you could possibly want.', datetime.datetime(2020, 10, 8, 0, 0): 'The best movie in history and the best ending in any entertainment business', datetime.datetime(2006, 2, 10, 0, 0): 'In its Oscar year, Shawshank Redemption (written and directed by Frank Darabont, after the novella Rita Hayworth and the Shawshank Redemption, by Stephen King) was nominated for seven Academy Awards, and walked away with zero. Best Picture went to Forrest Gump, while Shawshank and Pulp Fiction were \"just happy to be nominated.\" Of course hindsight is 20/20, but while history looks back on Gump as a good film, Pulp and Redemption are remembered as some of the all-time best. Pulp, however, was a success from the word \"go,\" making a huge splash at Cannes and making its writer-director an American master after only two films. For Andy Dufresne and Co., success didn\\'t come easy. Fortunately, failure wasn\\'t a life sentence.After opening on 33 screens with take of $727,327, the $25M film fell fast from theatres and finished with a mere $28.3M. The reasons for failure are many. Firstly, the title is a clunker. While iconic to fans today, in 1994, people knew not and cared not what a \\'Shawshank\\' was. On the DVD, Tim Robbins laughs recounting fans congratulating him on \"that \\'Rickshaw\\' movie.\" Marketing-wise, the film\\'s a nightmare, as \\'prison drama\\' is a tough sell to women, and the story of love between two best friends doesn\\'t spell winner to men. Worst of all, the movie is slow as molasses. As Desson Thomson writes for the Washington Post, \"it wanders down subplots at every opportunity and ignores an abundance of narrative exit points before settling on its finale.\" But it is these same weaknesses that make the film so strong.Firstly, its setting. The opening aerial shots of the prison are a total eye-opener. This is an amazing piece of architecture, strong and Gothic in design. Immediately, the prison becomes a character. It casts its shadow over most of the film, its tall stone walls stretching above every shot. It towers over the men it contains, blotting out all memories of the outside world. Only Andy (Robbins) holds onto hope. It\\'s in music, it\\'s in the sandy beaches of Zihuatanejo; \"In here\\'s where you need it most,\" he says. \"You need it so you don\\'t forget. Forget that there are places in the world that aren\\'t made out of stone. That there\\'s a - there\\'s a - there\\'s something inside that\\'s yours, that they can\\'t touch.\" Red (Morgan Freeman) doesn\\'t think much of Andy at first, picking \"that tall glass o\\' milk with the silver spoon up his ass\" as the first new fish to crack. Andy says not a word, and losing his bet, Red resents him for it. But over time, as the two get to know each other, they quickly become the best of friends. This again, is one of the film\\'s major strengths. Many movies are about love, many flicks have a side-kick to the hero, but Shawshank is the only one I can think of that looks honestly at the love between two best friends. It seems odd that Hollywood would skip this relationship time and again, when it\\'s a feeling that weighs so much into everyone\\'s day to day lives. Perhaps it\\'s too sentimental to seem conventional, but Shawshank\\'s core friendship hits all the right notes, and the film is much better for it.It\\'s pacing is deliberate as well. As we spend the film watching the same actors, it is easy to forget that the movie\\'s timeline spans well over 20 years. Such a huge measure of time would pass slowly in reality, and would only be amplified in prison. And it\\'s not as if the film lacks interest in these moments. It still knows where it\\'s going, it merely intends on taking its sweet time getting there. It pays off as well, as the tedium of prison life makes the climax that much more exhilarating. For anyone who sees it, it is a moment never to be forgotten.With themes of faith and hope, there is a definite religious subtext to be found here. Quiet, selfless and carefree, Andy is an obvious Christ figure. Warden Norton (Bob Gunton) is obviously modeled on Richard Nixon, who, in his day, was as close to a personified Satan as they come. But if you aren\\'t looking for subtexts, the movie speaks to anyone in search of hope. It is a compelling drama, and a very moving film, perfectly written, acted and shot. They just don\\'t come much better than this.OVERALL SCORE: 9.8/10 = A+ The Shawshank Redemption served as a message of hope to Hollywood as well. More than any film in memory, it proved there is life after box office. Besting Forrest and Fiction, it ran solely on strong word of mouth and became the hottest rented film of 1995. It currently sits at #2 in the IMDb\\'s Top 250 Films, occasionally swapping spots with The Godfather as the top ranked film of all time -- redemption indeed. If you haven\\'t seen it yet, what the hell are you waiting for? As Andy says, \"It comes down a simple choice, really. Either get busy living, or get busy dying.\"', datetime.datetime(1999, 3, 25, 0, 0): 'One of the finest films made in recent years. It\\'s a poignant story about hope. Hope gets me. That\\'s what makes a film like this more than a movie. It tells a lesson about life. Those are the films people talk about 50 or even 100 years from you. It\\'s also a story for freedom. Freedom from isolation, from rule, from bigotry and hate. Freeman and Robbins are majestic in their performances. Each learns from the other. Their relationship is strong and you feel that from the first moment they make contact with one another. There is also a wonderful performance from legend James Whitmore as Brooks.He shines when it is his time to go back into the world, only to find that the world grew up so fast he never even got a chance to blink. Stephen King\\'s story is brought to the screen with great elegance and excitement. It is an extraordinary motion that people \"will\" be talking about in 50 or 100 years.', datetime.datetime(2009, 4, 17, 0, 0): \"Shawshank Redemption is without doubt one of the best films ever made, and definitely the best film of 1994. Yes, it is better than Lion King, and I really like that too. It is not only enthralling but powerful and moving too. I will confess that I didn't understand it when I first saw it as a lot happens in the film, and I have now seen it three times. I seriously hope, that those who ignored the film when it was first released now recognise it as a great film, as it really is. The dialogue was extremely well-written, with lines that really stick in your mind. The cinematography and music are both gorgeous, and the prison itself is like a character that dominates the film. In the script, there are some true elements of Stephen King Now I admit I am not a huge king fan, and usually don't like coarse language in books. But in his books like It, which is very good, I have accepted the language represents brutality and rebellion, shown perfectly in the film with the battle of acceptance I suppose between the inmates and the superiors(like the scene with the warden yelling coarse language at the new inmates lined up in a row at the beginning.)The acting was exceptional. I am not hugely familiar with Tim Robbins, but he did a great job in a very demanding role. The best performance however, comes from Morgan Freeman as Red, who was seriously robbed of that Oscar, that he lost to Tom Hanks for Forrest Gump. Freeman reminds me very strongly, or his style of acting does, remind me of that of Sean Connery, suave yet very charismatic. Acting isn't just about your vocal range, it's about depth, which was what Freeman certainly had. In short, Freeman was brilliant in what could be his best performance. The scene where the inmates are listening to the Mozart aria over the speakers was a beautiful profound moment, and I actually cried in Brook's death scene. Very rarely do King adaptations translate-to screen well, because of the large scale of the author's books, with the exception of this and the Shining. Some like It and Dreamcatcher are genuinely memorable but have a number of flaws that prevent them from being classed as outstanding. And some, like Thinner and Tommyknockers that border on unwatchable. In conclusion Shawshank is a brilliant film, that is worthy of the credit it has been denied for so-long. 10/10 of course. Bethany Cox.\", datetime.datetime(1999, 7, 13, 0, 0): \"Misery and Stand By Me were the best adaptations up until this one, now you can add Shawshank to that list.This is simply one of the best films ever made and I know I am not the first to say that and I certainly won't be the last. The standing on the IMDb is a true barometer of that. #3 as of this date and I'm sure it could be number 1. So I'll just skip all the normal praise of the film because we all know how great it is. But let me perhaps add that what I find so fascinating about Shawshank is that Stephen King wrote it.King is one of the best writers in the world. Books like IT and the Castle Rock series are some of the greatest stories ever told. But his best adaptations are always done by the best directors. The Shining was brilliantly interpreted by Kubrick and of course the aforementioned Misery and Stand By Me are both by Rob Reiner. Now Frank Darabont comes onto the scene and makes arguably the best King film ever. He seems to understand what King wants to say and he conveys that beautifully. What makes this film one of the best ever made is the message it conveys. It is one of eternal hope. Andy Dufresne, played by Tim Robbins, has been sent to prison for a crime he did not commit. But he never loses hope. He never gives up his quest to become a free man again. His years of tenacity, patience and wits keep him not only sane, but it gives his mind and a spirit a will to live. This film has a different feel to it. There has never been anything like it before and I don't know if there will again.I'm not going to say any more about this film, it has already been said, but just suffice to say that I am glad that Forrest Gump won best picture in 94. I would have been equally glad if Pulp Fiction or Shawshank would have won. It is that good of a movie and one that will be appreciated for years to come.\", datetime.datetime(2018, 6, 15, 0, 0): \"I've lost count of the number of times I have seen this movie, but it is more than 20. It has to be one of the best movies ever made. It made me take notice Morgan Freeman and Tim Robbins like I had never noticed any actors before.I have from a very young age been a huge fan of anything Stephen King writes and had already read the short story that this movie is based on years prior to seeing this movie.Not everything Stephen King has written that gets turned into a movie comes out well, but this is as close to perfection as it gets and has everything you could ever want in a movie.Something that is outstanding is the fact that it has no real action, no special effects and no gimmicks. 99% of the movie is just men in a prison uniforms talking. Yet it absolutely hooks you almost from the beginning and has you glued to the screen to the end.For me what really makes this film one of the best is the message of eternal hope it conveys throughout. The never ever give up hope attitude of the main character so well conveyed by Tim Robbins. The ending is just spine tingling every time I see it, no matter how many times I have seen it.Brilliant, brilliant movie and a must see for everyone.\", datetime.datetime(2014, 11, 6, 0, 0): \"Two imprisoned men (Tim Robbins and Morgan Freeman) bond over a number of years, finding solace and eventual redemption through acts of common decency.Is this the greatest film of all time? IMDb would have you believe so. Despite being a box office flop (that barely recouped its budget), the film received multiple award nominations and outstanding reviews from critics for its acting, story, and realism. It has since been successful on cable television, VHS, DVD, and Blu-ray.And it deserves this praise that seems to be growing each year. Now twenty years old, the film has not aged a day, and instead seems to be getting better. This is Tim Robbins' best role, and a fine performance from the always wonderful Morgan Freeman.\", datetime.datetime(2016, 12, 18, 0, 0): 'Based on a novella by Stephen King, this is better than even THE GREEN MILE and goes to show that you don\\'t need supernatural elements in a prison story – the setting is enough to carry a film as it is. SHAWSHANK often shows up as the \"best film of all time\" on various movie lists - including here on the IMDb - and, whilst I don\\'t necessarily agree about that, it is a very good film indeed, near flawless in fact.Every technical element of the film is spot-on, from direction to music, editing, and acting; Morgan Freeman delivers his best ever performance whilst Tim Robbins shows us what a great character actor he is. Even better, for a genre fan like me, is seeing acting favourites like Clancy Brown, William Sadler, Brian Libby, and James Whitmore all appearing in the film together and playing more than just stock good or bad guy roles. Every actor is great here, and the script (which sticks closely to King\\'s writing) is nigh-on perfect. Emotion, thrills, drama, and the triumph of the human spirit are all present in this movie, which is one of the greatest prison flicks ever.', datetime.datetime(2020, 2, 23, 0, 0): 'The Shawshank Redemption has great performances, extremely well written script and story all leading to a deeply emotional climax! One of the best dramas of all time!', datetime.datetime(2011, 7, 30, 0, 0): 'Well I guess I\\'m a little late to the party as far as writing down a review for this picture. I\\'ve seen it a couple of times, but that was before I became a regular contributor to the IMDb. When I first discovered this site a few years ago, \"The Godfather\" was in the Number #1 spot, and since then the films have traded places for first and second, with Shawshank maintaining the top spot most of the time. That puzzled me a bit until I watched it again tonight, and I\\'ve come away from the picture with a new found appreciation. My favorite movies tend to be the story of underdogs in some way, shape or form, and my personal Top Ten list includes titles like \"On The Waterfront\", \"To Kill a Mockingbird\" and \"One Flew Over the Cuckoo\\'s Nest\". I may have to reconsider that list, an infrequent exercise but one I don\\'t mind doing every now and then as situations warrant.Overall, the film is darn near perfect. I know it\\'s pretty cliché to state it that way, but when you analyze the dialog, the characters, the directing and the tone of the movie, the picture flows flawlessly, even when it detours into side stories like Brooks Hatlen\\'s release and new prisoner Tommy\\'s introduction late in the picture. Every set-up, every nuance has some importance that eventually converges to symbolize Andy\\'s quest for escape and personal redemption. Remember Brooks feeding Jake for the first time and eventually setting him free when he receives his own pardon? How about Andy playing Mozart into the prison yard while settling back with a smile of contentment on his face. The story transcends one man\\'s confinement for a crime he didn\\'t commit, and focuses instead on his reaction to circumstances beyond his control. Paul Newman showed us a different way to react to those kinds of conditions in 1967\\'s \"Cool Hand Luke\", but his method was self destructive. Andy Dufresne (Tim Robbins) never loses his ability to keep his eye on the prize, even if it takes him a couple of decades to do so.But even more so, you have here the story of Ellis Boyd Redding (Morgan Freeman), a convict who sees Andy as a person, and over time, an inspiration to himself and the rest of the prisoners who call him friend. From Andy, he comes to understand that even as a prisoner, a man can live life on his own terms if he can keep his mind uncluttered by thoughts of desperation and hopelessness. Not bad for a convict who started out believing that \\'hope can drive a man insane\\'.I really can\\'t recommend this picture highly enough, both for it\\'s masterful story telling and it\\'s technical execution. The actors, even those portraying the most minor characters were seemingly born for their roles. They deliver a seamless performance that\\'s virtually unmatched by most modern films, in a picture that hits all the right notes with an inspiring message of discipline and perseverance.', datetime.datetime(2019, 11, 13, 0, 0): \"There's a reason this is rated the #1 . It is the same reason you simply watch this movie every time you see it on tv even if it's already half way over. It's captivating, brilliant and full of heart.\", datetime.datetime(1999, 2, 6, 0, 0): 'Whenever I talk about this movie with my friends, I do not even refer to it by title, but rather as \"The Movie\".  When I say \"The Movie\", my friends know exactly what I\\'m talking about.  In fact the main reason that me and my friends don\\'t refer to it by title is because this movie is so great, that we do not feel worthy enough to say it\\'s name in vain! I still remember the first time I saw The Shawshank Redemption.  Some friends of mine and I went to see it at one of those \"Budget Theaters\" over the summer of 1995.  None of us really knew anything about the movie, but we had heard that it was pretty good.  So, not having any real expectations, we saw it.  When the final credits rolled and the lights came on in the theater, all of us just sat there with our jaws hanging down on the floor. I turned my head towards my friend Bob and said \"That was the greatest movie I have ever seen in my entire life!\" There\\'s really no other way I can put it in words.  Every moment of this movie captivated me and inspired me to believe in the one true thing in life...... \"HOPE\".  This movie is sad, uplifting, inspiring, harsh, cold, funny (at the right times), jaw-dropping, and heart-warming all at the same time.  I get chills every time I watch this film and this film contains the greatest ending (which takes place over the last 30 minutes or so)in movie history!  How it all just \"comes together\" is so incredible and uplifting. I should also mention the music in this movie is nearly flawless as well, and the soundtrack is a \"must buy\" for any music fan. The only bad thing about this movie is the fact that I know I will never see a better movie, no matter how many I may see.  I\\'ve seen many movies over the past few years, many excellent films.  However, every time I walk out of the theater, I turn to my friend or family member that I saw it with and I say, \"That was a great movie, but it wasn\\'t nearly as good as \\'you know what\\'!\"  There have been many movies over the past few years that thought would really move me or that I might one day call my \"favorite of all time\", but they\\'ve all fallen far short of \"The Shawshank Redemption\". So, if you have yet to see this movie, please run to the video store immediately.  You\\'re guaranteed to find it in the \"employee picks\" section. And if it isn\\'t in that section, then you should tell the employees there that there is something seriously wrong with them.  If you have seen this movie, go see it again.  If you haven\\'t bought your own copy yet, buy one. In fact buy two, and put one in a fire-proof safe, just in case of an emergency. :o) So, you want a 1-10 rating???  I give it a 13!!!!!!', datetime.datetime(2000, 9, 6, 0, 0): 'The Shawshank Redemption is without a doubt one of the most brilliant movies I have ever seen. Similar to The Green Mile in many respects (and better than it in almost all of them), these two movies have shown us that Stephen King is a master not only of horror but also of prose that shakes the soul and moves the heart. The plot is average, but King did great things with it in his novella that are only furthered by the direction, and the acting is so top-rate it\\'s almost scary.Tim Robbins plays Andy Dufrane, wrongly imprisoned for 20 years for the murder of his wife. The story focuses on Andy\\'s relationship with \"Red\" Redding (Morgan Freeman, in probably his best role) and his attempts to escape from Shawshank. Bob Gunton is positively evil and frightening as Warden Norton, and there are great performances and cameos all around; the most prominent one being Gil Bellows (late as Billy of Ally McBeal) as Tommy, a fellow inmate of Andy\\'s who suffers under the iron will of Norton.If you haven\\'t seen this movie, GO AND RENT IT NOW. You will not be disappointed. It is positively the best movie of the \\'90\\'s, and one of my Top 3 of all time. This movie is a spectacle to move the mind, soul, and heart. 10/10', datetime.datetime(2001, 2, 8, 0, 0): \"I have never seen such an amazing film since I saw The Shawshank Redemption. Shawshank encompasses friendships, hardships, hopes, and dreams.  And what is so great about the movie is that it moves you, it gives you hope.  Even though the circumstances between the characters and the viewers are quite different, you don't feel that far removed from what the characters are going through.It is a simple film, yet it has an everlasting message.  Frank Darabont didn't need to put any kind of outlandish special effects to get us to love this film, the narration and the acting does that for him.  Why this movie didn't win all seven Oscars is beyond me, but don't let that sway you to not see this film, let its ranking on the IMDb's top 250 list sway you, let your friends recommendation about the movie sway you.Set aside a little over two hours tonight and rent this movie.  You will finally understand what everyone is talking about and you will understand why this is my all time favorite movie.\", datetime.datetime(2011, 2, 17, 0, 0): \"None of the usual otherworld creatures that populate the works of Stephen King are to be found in The Shawshank Redemption. But the real world of that Maine prison has some bizarre rules of its own and there's a whole new reality within those walls.In the tradition of Cool Hand Luke and Birdman Of Alcatraz comes Tim Robbins who was a banker on the outside, but when he caught his wife cheating on him with a golf pro from their country club, he's convicted of putting eight bullets in them, four apiece and tried and sentenced to two consecutive life terms in Shawshank prison. Like Luke and Bob Stroud he works out his own rehabilitation and rebels against the prison system.He may be a con, but Robbins still has all his knowledge of finances and pretty soon he's made himself quite invaluable to the warden and the rest of the staff at the prison. At the same time he and the cell block scrounger Morgan Freeman develop a close personal relationship. In the end they beat the system in a most unique way.There have been some classic prison films made ever since The Big House at the dawn of the talkies. Two I've already mentioned. My favorite prison film is Robert Redford's Brubaker, but The Shawshank Redemption comes pretty close. As does The Green Mile which was also directed by Frank Darabont.Darabont got an Oscar nomination as did the film itself and as did Morgan Freeman for Best Actor. The Shawshank Redemption was in for a flock more Oscar nominations in 1994. A couple other good performances are that of James Whitmore the institutionalized con who is there for 50 years and paroled and just can't make it on the outside. He will break your heart as will Gil Bellows who plays a fresh, but rather likable young con who runs afoul of the warden.Speaking of which Bob Gunton as the warden will positively chill you with his corruption. You would have to go back all the way to the James Cagney classic, The Mayor Of Hell where Dudley Digges was the warden of boys reformatory to find a warden that is as sanctimonious and as corrupt as Gunton. This is a man who gives Bibles out to each inmate hoping that the reading of the Good Book will improve the moral fiber of the convicts. At the same time he's raking in money every which way he can and a rather special punishment is meted out to him by Robbins.The Shawshank Redemption may not have monsters and other worldly creatures that normally characterize a Stephen King story. But the world of Shawshank prison is bizarre enough for any normal person if you see this wonderfully crafted and acted film.\", datetime.datetime(2002, 8, 27, 0, 0): \"Can Hollywood, usually creating things for entertainment purposes only, create art?  To create something of this nature, a director must approach it in a most meticulous manner, due to the delicacy of the process.  Such a daunting task requires an extremely capable artist with an undeniable managerial capacity and an acutely developed awareness of each element of art in their films, the most prominent; music, visuals, script, and acting. These elements, each equally important, must succeed independently, yet still form a harmonious union, because this mixture determines the fate of the artist's opus.  Though already well known amongst his colleagues for his notable skills at writing and directing, Frank Darabont emerges with his feature film directorial debut, The Shawshank Redemption.  Proving himself already a master of the craft, Darabont managed to create one of the most recognizable independent releases in the history of Hollywood.  The Shawshank Redemption defines a genre, defies the odds, compels the emotions, and brings an era of artistically influential films back to Hollywood.The story begins with the trial of a young banker, Andy Dufrense, victimized by circumstantial evidence, resulting in a conviction for the murder of his wife and her lover.  After a quick conviction, Andy finds himself serving a life sentence at Shawshank prison, with no hope of parole.  He exists in this prison only in appearance, keeping his mind free from the drab walls around him.  His ability to do this results in the gaining of respect from his fellow inmates, but most of all from Ellis Redding.  Ellis, commonly referred to as Red, finds gainful use of his entrepreneurial spirit within the drab walls of Shawshank by dealing in contraband and commodities rare to the confines of prison.  Andy's demeanor and undeniable sense of hope causes Red to take a deeper look at himself, and the world around him.  Andy proves to Red and the other inmates that in the conventional walls of Shawshank prison convention will find no home in his lifestyle.By creating the film's firm foundation, the meticulously chiseled screenplay paved the way for this film's success.  Frank Darabont outdoes himself with the phenomenal adaptation of Stephen King's equally noteworthy novella, Rita Hayworth and Shawshank Redemption.  In this novella, King demonstrates that he can break free from the genre he dominates and still create a marvelous piece of modern literature.  Though the film mirrors the novella in many ways, Darabont illustrates a focused objective of improving upon the areas where the novella came up short, resulting in one of the best book to film transitions ever.While maintaining some of the poetic and moving dialogue of the novella, Darabont also proves that a film's score can generate a great deal of emotional response from its audience, as dialogue does.  He employs the cunning Thomas Newman, son of the legendary Hollywood composer, Alfred Newman.  Darabont shows recognition for the film's needs by employing Newman, who makes the gentle piano chords whisper softly to the viewer, as if a part of the scripted dialogue.  Newman lends himself to individualism and tends to drive more towards the unique in the realm of score composition.  His effort in Shawshank did not go unnoticed, as his score received an Oscar nomination in 1995.  While unique and independent, Newman's score never once intrudes on your concentration or distracts from the film.With work from vast array of talented scene designers, costume designers, composers, cinematographers, and various other Hollywood artists, the cast of The Shawshank Redemption had a strong foundation to work with.  The marvelous cast of this film will dazzle you with some of the most convincing performances you will witness in a film.  While both Tim Robbins and Morgan Freeman shine as Andy and Red, respectively, the true spectacle of acting lies within the plethora of amazing supporting actors who easily disappear into their roles.  Most noticeable of these, the veteran film star James Whitmore, who portrays the elderly Brooks Hatlen.  Brooks, a man incarcerated for an unmentioned crime for so long that he finds himself attached to the Shawshank and the daily life he has lead.  Each of these actors show a true dedication to their art, and a focused purpose in their motivations, creating a convincing setting that never once caters to anything unbelievable.With all of the aesthetic touches and attention to cinematic detail, the most beautiful part of the film lies within its thematic material, such as its focus on the human desires for the most abstract concepts, like hope and freedom.  These themes, which concern things the human spirit undoubtedly yearns for, seem so intricately woven into the plot that it easily draws its audience in to its story.  Though full of hardened criminals, your heart will go out to these men as they display the most basic of human emotions, and deliver some of the most quotable lines in a film to date.  Like a great novel, this film manages to succeed at greater things than simply entertaining an audience.  Darabont tells his story most masterfully, illustrating principles and inspiring his audience to think.  He leaves us a poignant film with a powerful message of hope, and redemption, something we all seek.This film manages to redeem Hollywood in the eyes of people who feared it long lost in a dark sea of clichés and predictability.  Darabont shows us that artists still work in the Hollywood studios and production facilities. These artists show their capability to produce art; real art that inspires you to look at the deeper aspects of life and the world around you.  The Shawshank Redemption delivers much-needed breath of fresh air for anyone who realizes the capability of film.  It proves that masters of the craft still live on this earth, and still bless us with timeless masterpieces that we will never forget.\", datetime.datetime(2008, 12, 2, 0, 0): \"Shawshank Redemption, The (1994)**** (out of 4)An innocent man (Tim Robbins) is sent to prison on murder charges and once there he bonds with another man (Morgan Freeman) serving a life sentence. I remember seeing this when it was first released to theaters and walking out thinking it was a masterpiece but apparently others couldn't be bothered to see it since the box office results were very low and it was out of theaters in no time. Over the years the reputation of this film has grown and as I write this it's currently #1 at IMDb. I certainly wouldn't call this the greatest film ever made but it's certainly one of them. I think it's an insult to call this a prison movie because it's so much more than that. This is a film about friendship and hope. Those are two things that have played major parts in many movies but I can't think of too many films where the payoff is as large. What makes the film work so well is that director Durabont takes his time telling a story that takes place over twenty years. Another wonderful thing the director does is that he really makes the twenty years pass on a believable manor. Most films that jump time feel cheap and rushed but that's not the case here because the wonderful screenplay lets us get to know the two main character but also the supporting characters are very well written. What really brings this magic to life are the performances, which are downright brilliant and I'd argue that you can see some of the greatest ensemble acting right in this film. Robbins and Freeman are terrific together and really make for one of the most memorable friendships in movie history. The way Robbins walks and talks is perfectly done and I just love the way, as Freeman says in his narration, he walks around as if he didn't have a care in the world. Freeman gives another wonderful performance but what's really great about him is the narration he adds as he tells us the story. James Whitmore is terrific as the elderly convict and Clancy Brown and Bob Gunton make for excellent villains. I won't spoil the ending for anyone but the final twenty-minutes are at times breathtaking in their beauty and it's message of hope rings louder than most movies.\", datetime.datetime(2005, 7, 1, 0, 0): '\"The Shawshank Redemption\" should have won Best Picture for 1994. A story of banker Andy Dufresne (Tim Robbins) getting falsely convicted of murder and sent to the hellish Shawshank prison, the movie is beyond amazing. In prison, Andy meets Ellis Boyd \"Red\" Redding (Morgan Freeman), who was imprisoned many years earlier. Red gets Andy a poster of Rita Hayworth. Over the next twenty years, Andy experiences all the horrors that one would expect in jail: beatings by the guards, rapes by other inmates, and so on. But he never gives up hope.This movie, like \"Carrie\", \"The Shining\", \"Dolores Claiborne\", \"The Green Mile\" and \"Hearts in Atlantis\", just goes to show what a great author Stephen King is. When we think of horror, we think of spooky horror, but \"The Shawshank Redemption\" is a different kind: personal horror. Pure genius. I can only hope that in the coming years, this movie is recognized as what it is: a masterpiece. I can\\'t believe that it won no Oscars!', datetime.datetime(2021, 2, 22, 0, 0): 'The Shawshank Redemption is to me the most powerful and emotional film ever made, dragging emotions out of you as you deeply connect with each character in different ways. A truly beautiful film, one of the greatest.', datetime.datetime(2007, 12, 30, 0, 0): 'One of my favorite movies ever,The Shawshank Redemption is a modern day classic as it tells the story of two inmates who become friends and find solace over the years in which this movie takes place.Based on a Stephen King novel,this movie makes us feel different watching this film than most others as this is an incredibly realistic film.Tim Robbins stars as Andy Dufresne who is convicted of murder and Morgan Freeman as Ellis Boyd \"Red\" Redding who is a fellow inmate and close friend of Dufresne and Bob Gunton as Warden Samuel Norton who is the Warden of Shawshank State Prison and is a character who has mixed feelings and emotions towards everyone around him and a character who is sometimes easy to like and at other times easy to despise.This film is easily considered one of the greatest films of all time and I definitely agree with this fact.It was nominated for seven Academy Awards including (Best Picture, Best Actor \\x96 Morgan Freeman, Best Adapted Screenplay, Best Cinematography, Best Editing, Best Original Score, and Best Sound) but didn\\'t win any due to tough competition from the film Forrest Gump.I personally think that Tim Robbins should have been nominated for the Best Actor award as he really gave the performance of his career.Bravo to this brilliant modern day classic!', datetime.datetime(1998, 7, 30, 0, 0): 'This is Tim Robbins best performance ever. It is a compelling heart warming drama about an innocent man(Andy Dufresbe) who is sent to prison and learns to use his intelligence to make the best of prison life. He meets a mentor in Red(Morgan Freeman) and they build a friendship that is stronger than the walls that surround them. Andy steadies a relationship with the warden that keeps him in the good eyes of the prison. Andy is full of surprises and uses his resourcefulness to not only win the friendships of his fellow prisoners, but also of the prison guards. Both Andy and Red both hold on to their dream of one day enjoying their freedom. They turn their friendship and dreams of freedom into a bond that no prison could ever take away.'}\n"
     ]
    }
   ],
   "source": [
    "def get_imdb_reviews(movie_id): # FONCTIONNE\n",
    "    url = f\"https://www.imdb.com/title/{movie_id}/reviews\"\n",
    "    response = requests.get(url)\n",
    "    reviews = {}\n",
    "    if response.status_code == 200:\n",
    "        soup = BeautifulSoup(response.content, 'html.parser')\n",
    "        review_elements = soup.find_all('div', class_='review-container')\n",
    "        if not review_elements:\n",
    "            print(f\"Aucune critique trouvée pour {movie_id}\")\n",
    "            return reviews\n",
    "        for element in review_elements:\n",
    "            review_text = element.find('div', class_='text show-more__control').get_text().strip()\n",
    "            review_date = datetime.strptime(element.find('span', class_='review-date').get_text(), '%d %B %Y')\n",
    "            reviews[review_date] = review_text\n",
    "    else:\n",
    "        print(f\"Erreur lors de la récupération des avis pour {movie_id}: {response.status_code}\")\n",
    "    return reviews\n",
    "\n",
    "print(get_imdb_reviews('tt0111161'))"
   ]
  },
  {
   "cell_type": "markdown",
   "metadata": {},
   "source": [
    "#### <u>Récupération des données via l'API de TMDB</u>"
   ]
  },
  {
   "cell_type": "code",
   "execution_count": 11,
   "metadata": {},
   "outputs": [
    {
     "name": "stdout",
     "output_type": "stream",
     "text": [
      "{'adult': False, 'backdrop_path': '/kXfqcdQKsToO0OUXHcrrNCHDBzO.jpg', 'belongs_to_collection': None, 'budget': 25000000, 'genres': [{'id': 18, 'name': 'Drama'}, {'id': 80, 'name': 'Crime'}], 'homepage': '', 'id': 278, 'imdb_id': 'tt0111161', 'original_language': 'en', 'original_title': 'The Shawshank Redemption', 'overview': 'Framed in the 1940s for the double murder of his wife and her lover, upstanding banker Andy Dufresne begins a new life at the Shawshank prison, where he puts his accounting skills to work for an amoral warden. During his long stretch in prison, Dufresne comes to be admired by the other inmates -- including an older prisoner named Red -- for his integrity and unquenchable sense of hope.', 'popularity': 110.352, 'poster_path': '/q6y0Go1tsGEsmtFryDOJo3dEmqu.jpg', 'production_companies': [{'id': 97, 'logo_path': '/7znWcbDd4PcJzJUlJxYqAlPPykp.png', 'name': 'Castle Rock Entertainment', 'origin_country': 'US'}], 'production_countries': [{'iso_3166_1': 'US', 'name': 'United States of America'}], 'release_date': '1994-09-23', 'revenue': 28341469, 'runtime': 142, 'spoken_languages': [{'english_name': 'English', 'iso_639_1': 'en', 'name': 'English'}], 'status': 'Released', 'tagline': 'Fear can hold you prisoner. Hope can set you free.', 'title': 'The Shawshank Redemption', 'video': False, 'vote_average': 8.706, 'vote_count': 25108}\n"
     ]
    }
   ],
   "source": [
    "def get_movie_details(movie_id, api_key):\n",
    "    base_url = \"https://api.themoviedb.org/3/movie/\"\n",
    "    url = f\"{base_url}{movie_id}?api_key={api_key}\"\n",
    "    response = requests.get(url)\n",
    "    if response.status_code == 200:\n",
    "        return response.json()\n",
    "    else:\n",
    "        print(\"Erreur lors de la requête :\", response.status_code)\n",
    "        return None\n",
    "\n",
    "print(get_movie_details('tt0111161', api_key))"
   ]
  },
  {
   "cell_type": "code",
   "execution_count": 12,
   "metadata": {},
   "outputs": [
    {
     "name": "stdout",
     "output_type": "stream",
     "text": [
      "({'adult': False, 'backdrop_path': '/kXfqcdQKsToO0OUXHcrrNCHDBzO.jpg', 'belongs_to_collection': None, 'budget': 25000000, 'genres': [{'id': 18, 'name': 'Drama'}, {'id': 80, 'name': 'Crime'}], 'homepage': '', 'id': 278, 'imdb_id': 'tt0111161', 'original_language': 'en', 'original_title': 'The Shawshank Redemption', 'overview': 'Framed in the 1940s for the double murder of his wife and her lover, upstanding banker Andy Dufresne begins a new life at the Shawshank prison, where he puts his accounting skills to work for an amoral warden. During his long stretch in prison, Dufresne comes to be admired by the other inmates -- including an older prisoner named Red -- for his integrity and unquenchable sense of hope.', 'popularity': 110.352, 'poster_path': '/q6y0Go1tsGEsmtFryDOJo3dEmqu.jpg', 'production_companies': [{'id': 97, 'logo_path': '/7znWcbDd4PcJzJUlJxYqAlPPykp.png', 'name': 'Castle Rock Entertainment', 'origin_country': 'US'}], 'production_countries': [{'iso_3166_1': 'US', 'name': 'United States of America'}], 'release_date': '1994-09-23', 'revenue': 28341469, 'runtime': 142, 'spoken_languages': [{'english_name': 'English', 'iso_639_1': 'en', 'name': 'English'}], 'status': 'Released', 'tagline': 'Fear can hold you prisoner. Hope can set you free.', 'title': 'The Shawshank Redemption', 'video': False, 'vote_average': 8.706, 'vote_count': 25108}, {'id': 278, 'page': 1, 'results': [{'author': 'elshaarawy', 'author_details': {'name': '', 'username': 'elshaarawy', 'avatar_path': None, 'rating': 9.0}, 'content': 'very good movie 9.5/10 محمد الشعراوى', 'created_at': '2016-04-29T18:08:41.892Z', 'id': '5723a329c3a3682e720005db', 'updated_at': '2021-06-23T15:57:47.190Z', 'url': 'https://www.themoviedb.org/review/5723a329c3a3682e720005db'}, {'author': 'John Chard', 'author_details': {'name': '', 'username': 'John Chard', 'avatar_path': '/utEXl2EDiXBK6f41wCLsvprvMg4.jpg', 'rating': 10.0}, 'content': 'Some birds aren\\'t meant to be caged.\\r\\n\\r\\nThe Shawshank Redemption is written and directed by Frank Darabont. It is an adaptation of the Stephen King novella Rita Hayworth and Shawshank Redemption. Starring Tim Robbins and Morgan Freeman, the film portrays the story of Andy Dufresne (Robbins), a banker who is sentenced to two life sentences at Shawshank State Prison for apparently murdering his wife and her lover. Andy finds it tough going but finds solace in the friendship he forms with fellow inmate Ellis \"Red\" Redding (Freeman). While things start to pick up when the warden finds Andy a prison job more befitting his talents as a banker. However, the arrival of another inmate is going to vastly change things for all of them.\\r\\n\\r\\nThere was no fanfare or bunting put out for the release of the film back in 94, with a title that didn\\'t give much inkling to anyone about what it was about, and with Columbia Pictures unsure how to market it, Shawshank Redemption barely registered at the box office. However, come Academy Award time the film received several nominations, and although it won none, it stirred up interest in the film for its home entertainment release. The rest, as they say, is history. For the film finally found an audience that saw the film propelled to almost mythical proportions as an endearing modern day classic. Something that has delighted its fans, whilst simultaneously baffling its detractors. One thing is for sure, though, is that which ever side of the Shawshank fence you sit on, the film continues to gather new fans and simply will never go away or loose that mythical status.\\r\\n\\r\\nIt\\'s possibly the simplicity of it all that sends some haters of the film into cinematic spasms. The implausible plot and an apparent sentimental edge that makes a nonsense of prison life, are but two chief complaints from those that dislike the film with a passion. Yet when characters are this richly drawn, and so movingly performed, it strikes me as churlish to do down a human drama that\\'s dealing in hope, friendship and faith. The sentimental aspect is indeed there, but that acts as a counterpoint to the suffering, degradation and shattering of the soul involving our protagonist. Cosy prison life you say? No chance. The need for human connection is never more needed than during incarceration, surely? And given the quite terrific performances of Robbins (never better) & Freeman (sublimely making it easy), it\\'s the easiest thing in the world to warm to Andy and Red.\\r\\n\\r\\nThose in support aren\\'t faring too bad either. Bob Gunton is coiled spring smarm as Warden Norton, James Whitmore is heart achingly great as the \"Birdman Of Shawshank,\" Clancy Brown is menacing as antagonist Capt. Byron Hadley, William Sadler amusing as Heywood & Mark Rolston is impressively vile as Bogs Diamond. Then there\\'s Roger Deakins\\' lush cinematography as the camera gracefully glides in and out of the prison offering almost ethereal hope to our characters (yes, they are ours). The music pings in conjunction with the emotional flow of the movie too. Thomas Newman\\'s score is mostly piano based, dovetailing neatly with Andy\\'s state of mind, while the excellently selected soundtrack ranges from the likes of Hank Williams to the gorgeous Le Nozze di Figaro by Mozart.\\r\\n\\r\\nIf you love Shawshank then it\\'s a love that lasts a lifetime. Every viewing brings the same array of emotions - anger - revilement - happiness - sadness - inspiration and a warmth that can reduce the most hardened into misty eyed wonderment. Above all else, though, Shawshank offers hope - not just for characters in a movie - but for a better life and a better world for all of us. 10/10', 'created_at': '2016-07-10T00:16:50.561Z', 'id': '578193f29251417c28001764', 'updated_at': '2021-06-23T15:57:48.710Z', 'url': 'https://www.themoviedb.org/review/578193f29251417c28001764'}, {'author': 'tmdb73913433', 'author_details': {'name': '', 'username': 'tmdb73913433', 'avatar_path': None, 'rating': 6.0}, 'content': 'Make way for the best film ever made people. **Make way.**', 'created_at': '2017-11-11T15:09:34.114Z', 'id': '5a0712aec3a3687914014a4b', 'updated_at': '2021-06-23T15:58:02.682Z', 'url': 'https://www.themoviedb.org/review/5a0712aec3a3687914014a4b'}, {'author': 'thommo_nz', 'author_details': {'name': '', 'username': 'thommo_nz', 'avatar_path': None, 'rating': 10.0}, 'content': 'There is a reason why this movie is at the top of any popular list your will find.\\r\\nVery strong performances from lead actors and a story line from the literary brilliance of Stephen King (and no, its not a horror).\\r\\nSufficient drama and depth to keep you interested and occupied without stupefying your brain. It is the movie that has something for everyone.', 'created_at': '2018-05-01T05:51:13.756Z', 'id': '5ae800510e0a264fa7000c70', 'updated_at': '2021-06-23T15:58:08.245Z', 'url': 'https://www.themoviedb.org/review/5ae800510e0a264fa7000c70'}, {'author': 'Andrew Gentry', 'author_details': {'name': 'Andrew Gentry', 'username': 'AndrewGentry', 'avatar_path': '/vVGgWZe3bDdy0fsODYDtrL8J51b.jpg', 'rating': None}, 'content': 'It\\'s still puzzling to me why this movie exactly continues to appear in every single best-movies-of-all-time chart. There\\'s a great story, perfect cast, and acting. It really moves me in times when I\\'m finding myself figuring out things with my annual tax routine reading <a href=\"https://www.buzzfeed.com/davidsmithjd/what-is-form-w-2-and-how-does-it-work-3n31d\">this article</a>, and accidentally catching myself wondering what my life should be if circumstances had changed so drastically. This movie worth a rewatch by all means, but yet, there\\'s no unique vibe or something - there are thousands of other ones as good as this one.', 'created_at': '2018-10-18T15:08:48.777Z', 'id': '5bc8a200c3a36829c8019817', 'updated_at': '2021-06-23T15:58:13.726Z', 'url': 'https://www.themoviedb.org/review/5bc8a200c3a36829c8019817'}, {'author': 'Matthew Dixon', 'author_details': {'name': 'Matthew Dixon', 'username': 'matthewdixon', 'avatar_path': '/Af7sJr2dLx38npWMIaDzVmdzwd4.jpg', 'rating': None}, 'content': \"I will not say that the film is predictable, because it is not quite so, due to the fact that we only know Andy’s intentions at the end, and during the film, it is important to understand that there was not a hint of it, but let's not forget our guys who so imprudently localized it. I will not be the first, but the word 'redemption' is translated as 'redemption'. I don’t know the reason why our localizers decided to spoil the impression to all Russian-speaking people.\", 'created_at': '2019-07-30T08:25:48.402Z', 'id': '5d3fff0c34e1521fb8e86abf', 'updated_at': '2021-06-23T15:58:24.933Z', 'url': 'https://www.themoviedb.org/review/5d3fff0c34e1521fb8e86abf'}, {'author': 'JPV852', 'author_details': {'name': '', 'username': 'JPV852', 'avatar_path': '/xNLOqXXVJf9m7WngUMLIMFsjKgh.jpg', 'rating': 10.0}, 'content': \"First time seeing this in probably close to 20 years, maybe longer. Forgot how excellent of a movie this was, amazing all around from the performances, Morgan Freeman and Tim Robbins especially, with a roller coaster of emotions. The writing (from Stephen King's novel) direction from Frank Darabont was precise and just all around fantastic. This is the very rare 5 star movies I've given but it is easily one of the best movies, right up there in my book with The Godfather. **5.0/5**\", 'created_at': '2021-09-18T19:56:48.348Z', 'id': '6146448055c9260067f415ab', 'updated_at': '2021-09-18T19:56:48.348Z', 'url': 'https://www.themoviedb.org/review/6146448055c9260067f415ab'}, {'author': 'LƛȤƛƦꪡƬƑ', 'author_details': {'name': '', 'username': 'LƛȤƛƦꪡƬƑ', 'avatar_path': None, 'rating': None}, 'content': 'No 1 movie for all the time', 'created_at': '2023-01-14T18:44:02.525Z', 'id': '63c2f7f28efe7300a0eb7304', 'updated_at': '2023-01-17T15:15:23.905Z', 'url': 'https://www.themoviedb.org/review/63c2f7f28efe7300a0eb7304'}, {'author': 'drystyx', 'author_details': {'name': '', 'username': 'drystyx', 'avatar_path': '/hLLsAvAnVT0cFU7JuuaaItTWXv8.jpg', 'rating': 3.0}, 'content': 'This is much more predictable and Hollywood than a King novel.\\r\\nThis story of another man wrongfully in prison for murder joins the list of about every other movie about a man sent to prison for murdering his wife.\\r\\nAnd therein lies the problem. Most of the time, the killer is the husband, and most of the time the right man is in prison.\\r\\nJuries are now doomed to consist of several people who are brainwashed by this constant propaganda Hollywood gives us and think accordingly.\\r\\nPeople are not gods. They are souls and spirits that can only withstand so much brainwashing. \\r\\nAdd to that, the story plods along with really nothing new to add. It\\'s a very formula movie.\\r\\nI won\\'t say it is a \"bad movie\". Those are ones I give 1 or 2 out of 10. But 3/10 is what I call the very boring, unimaginative, safe, non thought provoking movies that you forget about quite quickly.', 'created_at': '2023-04-03T15:38:39.540Z', 'id': '642af2ffc0a30800774eb399', 'updated_at': '2023-04-03T16:46:12.393Z', 'url': 'https://www.themoviedb.org/review/642af2ffc0a30800774eb399'}, {'author': 'Sanjeev0805', 'author_details': {'name': '', 'username': 'Sanjeev0805', 'avatar_path': None, 'rating': None}, 'content': 'This movie is great', 'created_at': '2023-06-29T17:48:41.064Z', 'id': '649dc3f9c072a2014faf13ce', 'updated_at': '2023-07-07T17:19:18.678Z', 'url': 'https://www.themoviedb.org/review/649dc3f9c072a2014faf13ce'}, {'author': 'CinemaSerf', 'author_details': {'name': 'CinemaSerf', 'username': 'Geronimo1967', 'avatar_path': '/1kks3YnVkpyQxzw36CObFPvhL5f.jpg', 'rating': 8.0}, 'content': 'Tim Robbins is wealthy banker \"Andy Dufresne\" who finds himself sentenced to life imprisonment after his wife and her lover are found murdered. The handsome \"new fish\" is initially the target of the \"sisters\" who would use him as they would like - but he fights back and gradually establishes a friendship with prison \"scrounger\" Morgan Freeman (\"Red\"). When he overhears the beastly prison guard captain bemoaning some tax problems, he, rather riskily, volunteers to help find a tax-free solution and is soon advising pretty much the whole place - including \"Warden Norton\" (Bob Gunton) on all things financial - some above board, some less so. The film is set over a period of over ten years, and depicts some of the most brutal aspects of prison life; but also some it\\'s more hopeful. It deals with violence and desperation but also of bonding and lasting friendships and loyalties that long term close-confinement engender. Frank Darabont elicits the best from his three principals superbly, with added venom provided by guard captain Clancy Brown and humanity from prison librarian James Whitmore - one of the few who actually does make parole. The last half hour is up there with the best cinema has ever had to offer, and this - again on a big screen - is a must see adaptation of one of Stephen King\\'s lesser known, but better, stories that delivers a redemption never, quite, anticipated by the prison service!', 'created_at': '2023-08-26T15:36:08.834Z', 'id': '64ea1be8839018011f8d90b8', 'updated_at': '2023-08-26T15:36:08.924Z', 'url': 'https://www.themoviedb.org/review/64ea1be8839018011f8d90b8'}], 'total_pages': 1, 'total_results': 11})\n"
     ]
    }
   ],
   "source": [
    "def get_movie_details_and_reviews(movie_id, api_key):\n",
    "    base_url = \"https://api.themoviedb.org/3/movie/\"\n",
    "    url = f\"{base_url}{movie_id}?api_key={api_key}\"\n",
    "    response = requests.get(url)\n",
    "    movie_details = response.json() if response.status_code == 200 else {}\n",
    "    reviews_url = f\"{base_url}{movie_id}/reviews?api_key={api_key}\"\n",
    "    reviews_response = requests.get(reviews_url)\n",
    "    reviews_data = reviews_response.json() if reviews_response.status_code == 200 else {}\n",
    "\n",
    "    return movie_details, reviews_data\n",
    "\n",
    "\n",
    "print(get_movie_details_and_reviews('tt0111161', api_key))"
   ]
  },
  {
   "cell_type": "markdown",
   "metadata": {},
   "source": [
    "#### <u>On transforme nos données en json</u>"
   ]
  },
  {
   "cell_type": "code",
   "execution_count": 50,
   "metadata": {},
   "outputs": [],
   "source": [
    "movies_details = {}\n",
    "\n",
    "for movie_id, movie_title in movies_with_reviews:\n",
    "    movie_details, reviews_data = get_movie_details_and_reviews(movie_id, api_key)\n",
    "    movies_details[movie_id] = {\n",
    "        'title': movie_title,\n",
    "        'details': movie_details,\n",
    "        'reviews': reviews_data\n",
    "    }\n",
    "\n",
    "# Ne lancer qu'une seule fois pour éviter d'écraser le fichier JSON\n",
    "# with open('movies_details_3mois.json', 'w') as json_file: \n",
    "#    json.dump(movies_details, json_file, indent=4)"
   ]
  },
  {
   "cell_type": "markdown",
   "metadata": {},
   "source": [
    "Maintenant que nous avons récupérées toutes les données utiles à notre projet dans un fichier \"movies_details.json\", nous allons pouvoir les exploiter."
   ]
  },
  {
   "cell_type": "code",
   "execution_count": null,
   "metadata": {},
   "outputs": [],
   "source": [
    "movies_details"
   ]
  },
  {
   "cell_type": "markdown",
   "metadata": {},
   "source": [
    "Avant de se lancer dans l'analyse de sentiments, nous allons d'abord faire des vérifications sur les données inscritent dans notre fichier json. Nous allons requêter ces données pour voir si elles sont bien présentes et si elles sont bien au format attendu."
   ]
  },
  {
   "cell_type": "markdown",
   "metadata": {},
   "source": [
    "On peut par exemple demander le nombre de films dans notre json :"
   ]
  },
  {
   "cell_type": "code",
   "execution_count": 6,
   "metadata": {},
   "outputs": [
    {
     "name": "stdout",
     "output_type": "stream",
     "text": [
      "Nombres de  films: 83\n"
     ]
    }
   ],
   "source": [
    "with open('movies_details_3mois.json', 'r') as json_file:\n",
    "    movies_details = json.load(json_file)\n",
    "\n",
    "num_films = len(movies_details)\n",
    "\n",
    "print(\"Nombres de  films:\", num_films)"
   ]
  },
  {
   "cell_type": "markdown",
   "metadata": {},
   "source": [
    "On peut également demander le nombre d'avis pour chaque film :"
   ]
  },
  {
   "cell_type": "code",
   "execution_count": 7,
   "metadata": {},
   "outputs": [
    {
     "name": "stdout",
     "output_type": "stream",
     "text": [
      "Film ID 414906: Nombre d'avis = 20\n",
      "Film ID 675353: Nombre d'avis = 7\n",
      "Film ID 585083: Nombre d'avis = 1\n",
      "Film ID 760104: Nombre d'avis = 5\n",
      "Film ID 508947: Nombre d'avis = 11\n",
      "Film ID 406759: Nombre d'avis = 6\n",
      "Film ID 818647: Nombre d'avis = 1\n",
      "Film ID 335787: Nombre d'avis = 8\n",
      "Film ID 646385: Nombre d'avis = 9\n",
      "Film ID 629542: Nombre d'avis = 5\n",
      "Film ID 545611: Nombre d'avis = 17\n",
      "Film ID 526896: Nombre d'avis = 9\n",
      "Film ID 752623: Nombre d'avis = 8\n",
      "Film ID 774825: Nombre d'avis = 1\n",
      "Film ID 505026: Nombre d'avis = 9\n",
      "Film ID 557946: Nombre d'avis = 2\n",
      "Film ID 628900: Nombre d'avis = 3\n",
      "Film ID 924482: Nombre d'avis = 1\n",
      "Film ID 698508: Nombre d'avis = 1\n",
      "Film ID 823625: Nombre d'avis = 1\n",
      "Film ID 619979: Nombre d'avis = 3\n",
      "Film ID 579974: Nombre d'avis = 5\n",
      "Film ID 696806: Nombre d'avis = 8\n",
      "Film ID 799876: Nombre d'avis = 5\n",
      "Film ID 522016: Nombre d'avis = 6\n",
      "Film ID 854867: Nombre d'avis = 1\n",
      "Film ID 763285: Nombre d'avis = 8\n",
      "Film ID 787752: Nombre d'avis = 3\n",
      "Film ID 833339: Nombre d'avis = 2\n",
      "Film ID 626735: Nombre d'avis = 2\n",
      "Film ID 803114: Nombre d'avis = 5\n",
      "Film ID 632727: Nombre d'avis = 6\n",
      "Film ID 517302: Nombre d'avis = 1\n",
      "Film ID 833425: Nombre d'avis = 1\n",
      "Film ID 760926: Nombre d'avis = 1\n",
      "Film ID 629015: Nombre d'avis = 1\n",
      "Film ID 656663: Nombre d'avis = 1\n",
      "Film ID 818750: Nombre d'avis = 1\n",
      "Film ID 698128: Nombre d'avis = 4\n",
      "Film ID 850018: Nombre d'avis = 2\n",
      "Film ID 615904: Nombre d'avis = 4\n",
      "Film ID 836009: Nombre d'avis = 1\n",
      "Film ID 919355: Nombre d'avis = 2\n",
      "Film ID 913862: Nombre d'avis = 1\n",
      "Film ID 758724: Nombre d'avis = 1\n",
      "Film ID 691683: Nombre d'avis = 1\n",
      "Film ID 821420: Nombre d'avis = 1\n",
      "Film ID 760336: Nombre d'avis = 2\n",
      "Film ID 916740: Nombre d'avis = 1\n",
      "Film ID 862491: Nombre d'avis = 1\n",
      "Film ID 844398: Nombre d'avis = 1\n",
      "Film ID 923597: Nombre d'avis = 1\n",
      "Film ID 591120: Nombre d'avis = 1\n",
      "Film ID 895744: Nombre d'avis = 1\n",
      "Film ID 923632: Nombre d'avis = 1\n",
      "Film ID 771077: Nombre d'avis = 1\n",
      "Film ID 396194: Nombre d'avis = 1\n",
      "Film ID 845404: Nombre d'avis = 1\n",
      "Film ID 826953: Nombre d'avis = 1\n",
      "Film ID 245842: Nombre d'avis = 3\n",
      "Film ID 811596: Nombre d'avis = 1\n",
      "Film ID 585378: Nombre d'avis = 5\n",
      "Film ID 939356: Nombre d'avis = 1\n",
      "Film ID 890466: Nombre d'avis = 1\n",
      "Film ID 680860: Nombre d'avis = 1\n",
      "Film ID 680829: Nombre d'avis = 2\n",
      "Film ID 833417: Nombre d'avis = 1\n",
      "Film ID 664996: Nombre d'avis = 3\n",
      "Film ID 940075: Nombre d'avis = 2\n",
      "Film ID 788933: Nombre d'avis = 1\n",
      "Film ID 624798: Nombre d'avis = 1\n",
      "Film ID 885266: Nombre d'avis = 1\n",
      "Film ID 601188: Nombre d'avis = 1\n",
      "Film ID 919348: Nombre d'avis = 1\n",
      "Film ID 892869: Nombre d'avis = 1\n",
      "Film ID 931034: Nombre d'avis = 1\n",
      "Film ID 775400: Nombre d'avis = 1\n",
      "Film ID 803736: Nombre d'avis = 1\n",
      "Film ID 661925: Nombre d'avis = 1\n",
      "Film ID 785303: Nombre d'avis = 1\n",
      "Film ID 950911: Nombre d'avis = 1\n",
      "Film ID 939304: Nombre d'avis = 1\n",
      "Film ID 927026: Nombre d'avis = 1\n"
     ]
    }
   ],
   "source": [
    "try:\n",
    "    with open('movies_details_3mois.json', 'r') as file:\n",
    "        movies_details = json.load(file)\n",
    "    reviews_count = {}\n",
    "    for movie in movies_details.values():\n",
    "        num_reviews = len(movie['reviews']['results'])\n",
    "        movie_id = movie['reviews']['id']\n",
    "        reviews_count[movie_id] = num_reviews\n",
    "    for movie_id, count in reviews_count.items():\n",
    "        print(f\"Film ID {movie_id}: Nombre d'avis = {count}\")\n",
    "except Exception as e:\n",
    "    print(f\"Erreur lors de la lecture du fichier JSON: {e}\")\n"
   ]
  },
  {
   "cell_type": "markdown",
   "metadata": {},
   "source": [
    "Maintenant on test d'afficher les avis sur un film en particulier : je prends par exemple l'ID du film x : \"646385\" et je récupère les avis sur ce film :"
   ]
  },
  {
   "cell_type": "code",
   "execution_count": 8,
   "metadata": {},
   "outputs": [
    {
     "name": "stdout",
     "output_type": "stream",
     "text": [
      "Auteur : garethmb\n",
      "Rating : None\n",
      "Contenu : It is hard to believe it has been 25 years since “Scream” premiered and in doing so; brought new life into the slasher genre which had become stale due to an abundance of direct to DVD and cable releases combined with many uninspired and stale theatrical releases.\n",
      "\n",
      "The movie was a massive success and launched a very successful trilogy and made the Ghostface killer and many moments from the series Pop Culture mainstays.\n",
      "\n",
      "After a hiatus; “Scream 4” arrived and continued the series and in 2022; “Scream” has arrived which continues the story to the eager anticipation of fans.\n",
      "\n",
      "When a young girl named Tara (Jenna Ortega); is brutally attacked in a fashion very similar to the Ghostface Killer; her sister Sam (Melissa Barrera); returns to Woodsboro to be by her side while Tara recuperates.\n",
      "\n",
      "Sam is joined by her boyfriend Richie (Jack Quaid), who has no idea about the history of Woodsboro nor the popular “Stab” film series that is based on the events of the murders that have plagued the town.\n",
      "\n",
      "Sam’s past troubles makes her return difficult and when Ghostface strikes again; she and Richie seek the help of Dewey (David Arquette); who has fallen on hard times and has split from Gayle (Courtney Cox). Despite his reluctance; Dewey gets involved and tells Sam the “rules” which would indicate the killer might be someone she knows and soon everyone in her and Tara’s circle becomes suspect even as the deaths start to increase.\n",
      "\n",
      "This allows for some of the best moments of the film as the characters make references to several other modern and past horror franchises and discuss things from online Trolls, rabid fans, and other Pop Culture references which provides some tongue in cheek humor about the series and also establishes the world of “Scream” as one where people are well-versed in horror films old and new and have modified the rules based on sequel, prequel, and “Requel” rules for films.\n",
      "\n",
      "As tensions and body count mounts; Gayle, Dewey, and Sidney (Neve Campbell) must face their fears to stop Ghostface before it is too late.\n",
      "\n",
      "While the final act of the film is very over the top and at times absurd; it does provide plenty of the elements that fans have come to expect from the series. I was able to accurately see and predict almost all of the twists very early in the film and did not have many surprises as the film unfolded; I think many will still find enough enjoyment watching the tale unfold as after four films I have a pretty good idea of the formula for the series and also have many years of this as I saw the twists in “The Sixth Sense” and “The Village” very early in the films so I just seem to have a knack for this sort of thing.\n",
      "\n",
      "While it does not break much in the way of new ground; the film does deliver what fans have come to expect and I did find in more enjoyable than “Scream 3” and there was more than enough to keep me entertained. There have been rumors that a sixth film has already been planned and if so: I will be more than ready for more.\n",
      "\n",
      "3.5 out of 5\n",
      "\n",
      "Auteur : Manuel São Bento\n",
      "Rating : 8.0\n",
      "Contenu : FULL SPOILER-FREE REVIEW @ https://www.msbreviews.com/movie-reviews/scream-2022-spoiler-free-review\n",
      "\n",
      "\"Scream (5) is a brilliant \"requel\" with cleverly fascinating meta commentary on the horror genre, toxic fandoms, social media, and much more, ultimately becoming a strong contender for this new year's Top10.\n",
      "\n",
      "Boasting a continuously entertaining screenplay filled with exceptionally captivating, relevant dialogue and some of the goriest, bloodiest murders in the famous saga, the directors (Matt Bettinelli-Olpin, Tyler Gillett) and writers (James Vanderbilt, Guy Busick) pay a beautiful homage to the influential creator Wes Craven.\n",
      "\n",
      "The whole cast - both newcomers and icons - delivers remarkable performances, portraying characters who unapologetically address admittedly cinephile-driven topics that some occasional moviegoers might not fully understand but will still receive pure entertainment on the big screen.\n",
      "\n",
      "As a horror-mystery flick, it keeps the viewers on the edge of their seats, laughing and getting jumpscared for the entire runtime. I couldn't recommend it more.\"\n",
      "\n",
      "Rating: A-\n",
      "\n",
      "Auteur : Chris Sawin\n",
      "Rating : 4.0\n",
      "Contenu : Ghostface is my favorite cinematic serial killer and I love the first four films (yes, even _Scream 3_ and Gale’s terrible bangs) despite their flaws and fluctuating factors of entertainment. I’ll see and support any new _Scream_ film or TV series that comes along because of it. I know this new installment was successful ($88.4 million worldwide box office gross as of this writing) and some enjoyed it, but it is honestly my least favorite in the franchise.\n",
      "\n",
      "This new film feels like it’s trying too hard to be one of the original _Scream_ films when it should have just been more of its own thing. This is something the film addresses, but originality should always triumph over retreading familiar territory; especially when it seems like its kills are being plunged into the same stab wounds.\n",
      "\n",
      "Full review: https://hubpages.com/entertainment/Scream-2022-Review-Movies-Make-Psychos-More-Imitative\n",
      "\n",
      "Auteur : edwecks\n",
      "Rating : 7.0\n",
      "Contenu : Decent movie with a nice balance of meta / references to the original without overdoing it.\n",
      "\n",
      "Auteur : JPV852\n",
      "Rating : 6.0\n",
      "Contenu : Okay addition to the franchise has some good kills and the acting at least was serviceable and nice seeing the legacy characters again. The killer's motivations did feel a bit 5 years ago (to me, though I don't do reddit or really other social media platforms) but fine I guess and similar to the social commentary from Scream 4. I'd rank this third in the franchise I suppose, behind the original and Scream 2 (for all that movie's flaws, it has a soft spot for me). Not great but worth watching once. **3.25/5**\n",
      "\n",
      "Auteur : Nathan\n",
      "Rating : 7.0\n",
      "Contenu : Scream is a self-aware thriller that doesn't try to be more than it is. The kills are great, the violence is there, and the comedy is good enough that is doesn't take away from the movie.\n",
      "\n",
      "**Verdict:** _Good_\n",
      "\n",
      "Auteur : Martha\n",
      "Rating : 7.0\n",
      "Contenu : I've watched every scream since scream was invented. I like the first two okay but after that the kind of got a little iffy. This one really goes back to what screen was intended to be by Wes Craven. I really like the flow of this movie and how they put the twist on Samantha's character. It starts like the first scream and it ends like the first scream. I'll have to say out of all the scream movies this was one of the most decent and hardest to figure out.\n",
      "\n",
      "Auteur : The Movie Mob\n",
      "Rating : 9.0\n",
      "Contenu : **One of the best slasher flicks since 1996!**\n",
      "\n",
      "I loved the first Scream - the surprise, the shock, the self-awareness, the humor. It reinvented horror and launched a franchise of sequels of varying quality. And this newest one is the best since the first! It captured all the fun of the first. It kept the stakes high by bringing back the original cast and proving that no one is truly safe. The directors had fun baiting the audience with every slasher trope they could. Tense music would rise every time a character walked past a dark doorway or opened a cabinet to hide the view from the hall - naturally, that is when the killer is standing on the other side but not in Scream! Playing with the tropes in a fun, self-aware way is what Scream is all about, and Matt Bettinelli-Olpin and Tyler Gillett nailed it.\n",
      "\n",
      "Auteur : tmdb28039023\n",
      "Rating : 6.0\n",
      "Contenu : Some things never change. This can be good and also bad. Bad like Audibly Sharp knives (i.e., blades that make a sharpening noise when being whisked through thin air), or like when former deputy Dewey Riley (David Arquette) says “You have to shoot 'em in the head, or they always come back.” Of course, the very existence of the new Scream is irrefutable proof that they will come back regardless. This movie is slasher history repeating itself in more ways than one; in addition to revisiting this particular franchise, it borrows a key plot point from Freddy's Dead: The Final Nightmare – that I will not reveal but which you may have inkling about if you are, like me, a student of the genre.\n",
      "\n",
      "All of the above notwithstanding, Scream ‘22 is overall more good than bad. True to its roots, this iteration serves as a deconstruction of the current state of mainstream horror cinema. Specifically, it is a textbook example of a “requel” – like the last couple of Halloweens, or the recent Texas Chainsaw Massacre –, and by ‘textbook’ I mean that it actually includes a scene where a character literally explains what a requel is and how it works. I also like that it lampshades one of my least favorite tropes, which I call Chekhov's Inhaler.\n",
      "\n",
      "I just compared it to Halloween and The Texas Chainsaw Massacre, but the fact is that Scream ‘22 comes to join the much better company of Wes Craven’s New Nightmare and last year’s Candyman (suitably, the movie is dedicated to Craven’s memory and gives Jordan Peele a shoutout). This Scream’s oft-repeated mantra is “always go back to the original,” and that’s sage advice because, like Nightmare on Elm Street, this franchise is a brainchild of Craven that began life as thinking man’s horror only to get progressively dumbed down with each new entry – unlike, say, Friday the 13th, which was born stupid.\n",
      "\n",
      "Thankfully, this film has been made by people with knowledge of and respect for their source material, and who don’t underestimate the audience’s intelligence. Consequently, when characters send text messages, the words appear on their phone screens as opposed to our movie and TV screens, and when a someone is stabbed, they spill real fake blood instead of a stream of red pixels (and in an age where CGI is the norm, any horror movie that uses practical effects instantly doubles its visceral impact). I will only add that, also like New Nightmare and Candyman ‘21, Scream ‘22 is as much of a return to form as it is a fitting farewell, so here’s hoping that it will live up to its promise that “After tonight, no more books, no more movies, no more f***ing Ghostface.”\n",
      "\n"
     ]
    }
   ],
   "source": [
    "fichier_json = 'movies_details_3mois.json'\n",
    "movie_id_to_check = 646385\n",
    "\n",
    "try:\n",
    "    with open(fichier_json, 'r') as file:\n",
    "        movies_details = json.load(file)\n",
    "\n",
    "    selected_movie = movies_details[str(movie_id_to_check)]\n",
    "    reviews = selected_movie['reviews']['results']\n",
    "    \n",
    "    for review in reviews:\n",
    "        print(f\"Auteur : {review['author']}\")\n",
    "        print(f\"Rating : {review['author_details']['rating']}\")\n",
    "        print(f\"Contenu : {review['content']}\\n\")\n",
    "\n",
    "except Exception as e:\n",
    "    print(f\"Erreur lors de la lecture du fichier JSON: {e}\")"
   ]
  },
  {
   "cell_type": "markdown",
   "metadata": {},
   "source": [
    "## Idées pour la suite du projet :\n",
    "\n",
    "- Créer l'application interactive en python permettant aux utilisateurs de demander des analyses de sentiments sur des films spécifiques.\n",
    "- Analyser les mots clés les plus utilisés dans les commentaires récupérés sur TMDB.\n",
    "- Réaliser un word cloud avec les mots clés les plus utilisés dans les commentaires récupérés sur TMDB.\n",
    "- Faire une analyse de sentiments sur les commentaires récupérés sur TMDB.\n",
    "- Faire une moyenne de notes de sentiments pour chaque film.\n",
    "- Comparer les notes de sentiments des avis avec les notes de films attribuées par les utilisateurs.\n"
   ]
  },
  {
   "cell_type": "markdown",
   "metadata": {},
   "source": [
    "#### <u> Analyse des mots clés les plus utilisés dans les commentaires récupérés sur TMDB</u>\n",
    "\n",
    "- On va d'abord créer une fonction clean_avis qui va nous permettre de nettoyer les commentaires récupérés sur TMDB. On va supprimer les caractères spéciaux, les mots vides et on va mettre tous les mots en minuscule. Pour cela on va s'aider de la librairie nltk et de son module stopwords et de la librairie re.\n",
    "\n",
    "- Ensuite on va construire une fonction qui va nous permettre de compter le nombre d'occurence de chaque mot dans les commentaires. On utilisera notamment la fonction Counter de la librairie collections."
   ]
  },
  {
   "cell_type": "code",
   "execution_count": 18,
   "metadata": {},
   "outputs": [
    {
     "name": "stdout",
     "output_type": "stream",
     "text": [
      "The Batman\n",
      "Mots les plus fréquents [('batman', 123), ('movie', 43), ('film', 42), ('like', 32), ('riddler', 23), ('also', 22), ('even', 18), ('pattinson', 17), ('bruce', 17), ('dark', 17)]\n",
      "\n",
      "Sonic the Hedgehog 2\n",
      "Mots les plus fréquents [('sonic', 20), ('movie', 12), ('first', 8), ('carrey', 8), ('one', 7), ('jim', 7), ('hedgehog', 7), ('robotnik', 6), ('well', 6), ('review', 6)]\n",
      "\n",
      "Hotel Transylvania: Transformania\n",
      "Mots les plus fréquents [('hotel', 2), ('transylvania', 2), ('transformania', 2), ('review', 2), ('lot', 1), ('obstacles', 1), ('relating', 1), ('release', 1), ('viewing', 1), ('film', 1)]\n",
      "\n",
      "X\n",
      "Mots les plus fréquents [('film', 9), ('x', 6), ('horror', 6), ('west', 5), ('story', 4), ('goth', 4), ('movie', 4), ('pearl', 4), ('makes', 4), ('gore', 3)]\n",
      "\n",
      "Turning Red\n",
      "Mots les plus fréquents [('film', 23), ('red', 11), ('pixar', 10), ('one', 9), ('turning', 8), ('mei', 8), ('animation', 6), ('panda', 6), ('puberty', 6), ('going', 6)]\n",
      "\n",
      "Moonfall\n",
      "Mots les plus fréquents [('movie', 10), ('one', 7), ('moonfall', 6), ('would', 6), ('action', 6), ('film', 6), ('em', 6), ('good', 6), ('story', 6), ('even', 5)]\n",
      "\n",
      "Through My Window\n",
      "Mots les plus fréquents [('blah', 3), ('romantic', 2), ('teen', 1), ('romance', 1), ('like', 1), ('hundreds', 1), ('others', 1), ('girl', 1), ('boy', 1), ('different', 1)]\n",
      "\n",
      "Uncharted\n",
      "Mots les plus fréquents [('movie', 21), ('action', 17), ('nathan', 15), ('good', 11), ('story', 10), ('treasure', 9), ('character', 9), ('would', 9), ('one', 8), ('uncharted', 7)]\n",
      "\n",
      "Scream\n",
      "Mots les plus fréquents [('scream', 27), ('like', 13), ('new', 11), ('film', 11), ('movie', 10), ('one', 9), ('horror', 8), ('series', 7), ('first', 7), ('ghostface', 6)]\n",
      "\n",
      "The Bad Guys\n",
      "Mots les plus fréquents [('bad', 6), ('animation', 6), ('guys', 5), ('movie', 5), ('despite', 3), ('marmalade', 3), ('really', 3), ('almost', 3), ('story', 3), ('make', 2)]\n",
      "\n",
      "Everything Everywhere All at Once\n",
      "Mots les plus fréquents [('movie', 29), ('film', 15), ('everything', 14), ('story', 12), ('everywhere', 11), ('time', 10), ('see', 8), ('multiverse', 8), ('things', 8), ('one', 7)]\n",
      "\n",
      "Morbius\n",
      "Mots les plus fréquents [('movie', 20), ('morbius', 8), ('jared', 8), ('vampire', 8), ('leto', 7), ('also', 7), ('really', 7), ('bad', 7), ('good', 6), ('even', 6)]\n",
      "\n",
      "The Lost City\n",
      "Mots les plus fréquents [('lost', 9), ('tatum', 9), ('movie', 8), ('city', 7), ('bullock', 7), ('pitt', 7), ('channing', 6), ('sandra', 6), ('like', 6), ('well', 4)]\n",
      "\n",
      "The Ice Age Adventures of Buck Wild\n",
      "Mots les plus fréquents [('ice', 3), ('age', 3), ('buck', 3), ('would', 2), ('disney', 2), ('film', 2), ('animation', 2), ('characters', 2), ('bumbling', 2), ('ineptitude', 2)]\n",
      "\n",
      "Death on the Nile\n",
      "Mots les plus fréquents [('poirot', 24), ('movie', 16), ('nile', 14), ('death', 13), ('branagh', 13), ('mystery', 13), ('murder', 12), ('film', 11), ('kenneth', 10), ('hercule', 9)]\n",
      "\n",
      "Last Looks\n",
      "Mots les plus fréquents [('last', 3), ('looks', 3), ('film', 3), ('mystery', 3), ('movie', 2), ('bad', 2), ('book', 2), ('way', 2), ('bland', 2), ('every', 2)]\n",
      "\n",
      "The Contractor\n",
      "Mots les plus fréquents [('action', 4), ('even', 4), ('free', 3), ('movie', 3), ('chris', 3), ('pine', 3), ('really', 3), ('spoiler', 2), ('review', 2), ('contractor', 2)]\n",
      "\n",
      "The Ledge\n",
      "Mots les plus fréquents [('bad', 1), ('predictable', 1), ('outcome', 1), ('happy', 1), ('seen', 1), ('watch', 1)]\n",
      "\n",
      "Redeeming Love\n",
      "Mots les plus fréquents [('angel', 7), ('michael', 5), ('redeeming', 3), ('love', 3), ('great', 3), ('caruso', 3), ('life', 3), ('even', 3), ('movie', 3), ('western', 3)]\n",
      "\n",
      "Blacklight\n",
      "Mots les plus fréquents [('predictable', 3), ('type', 2), ('movie', 2), ('shadowy', 1), ('government', 1), ('agency', 1), ('hired', 1), ('killers', 1), ('cover', 1), ('ups', 1)]\n",
      "\n",
      "Deep Water\n",
      "Mots les plus fréquents [('vic', 7), ('deep', 6), ('water', 6), ('affleck', 6), ('lyne', 5), ('good', 5), ('melinda', 5), ('one', 5), ('ana', 4), ('de', 4)]\n",
      "\n",
      "RRR\n",
      "Mots les plus fréquents [('movie', 21), ('one', 10), ('two', 10), ('movies', 9), ('story', 9), ('action', 8), ('film', 7), ('dance', 7), ('indian', 6), ('even', 6)]\n",
      "\n",
      "The Adam Project\n",
      "Mots les plus fréquents [('adam', 14), ('film', 13), ('movie', 12), ('reynolds', 12), ('project', 11), ('time', 8), ('ryan', 8), ('back', 8), ('really', 7), ('story', 7)]\n",
      "\n",
      "The Outfit\n",
      "Mots les plus fréquents [('film', 10), ('outfit', 5), ('rylance', 5), ('twists', 5), ('tailor', 5), ('shop', 5), ('em', 4), ('one', 4), ('plot', 4), ('story', 4)]\n",
      "\n",
      "The 355\n",
      "Mots les plus fréquents [('cast', 5), ('chastain', 5), ('film', 5), ('action', 5), ('movie', 5), ('potential', 4), ('great', 3), ('jessica', 3), ('lupita', 3), ('nyong', 3)]\n",
      "\n",
      "Werewolf Castle\n",
      "Mots les plus fréquents [('werewolves', 5), ('castle', 4), ('werewolf', 3), ('much', 3), ('people', 3), ('film', 2), ('say', 2), ('movie', 2), ('filmmakers', 2), ('even', 2)]\n",
      "\n",
      "Ambulance\n",
      "Mots les plus fréquents [('action', 12), ('bay', 10), ('ambulance', 9), ('movie', 9), ('michael', 8), ('work', 7), ('two', 6), ('police', 5), ('one', 5), ('even', 5)]\n",
      "\n",
      "Fresh\n",
      "Mots les plus fréquents [('fresh', 3), ('sebastian', 3), ('stan', 3), ('daisy', 3), ('edgar', 3), ('jones', 3), ('spoiler', 2), ('free', 2), ('review', 2), ('movie', 2)]\n",
      "\n",
      "Speak No Evil\n",
      "Mots les plus fréquents [('movie', 8), ('movies', 4), ('film', 3), ('family', 3), ('ending', 3), ('impact', 3), ('realistic', 2), ('horror', 2), ('tension', 2), ('scenes', 2)]\n",
      "\n",
      "Dog\n",
      "Mots les plus fréquents [('dog', 3), ('film', 3), ('spoiler', 2), ('free', 2), ('review', 2), ('channing', 2), ('tatum', 2), ('quite', 2), ('two', 2), ('em', 2)]\n",
      "\n",
      "The Requin\n",
      "Mots les plus fréquents [('movie', 12), ('shark', 6), ('bad', 4), ('film', 4), ('made', 4), ('even', 4), ('cgi', 3), ('definitely', 3), ('time', 3), ('requin', 3)]\n",
      "\n",
      "Texas Chainsaw Massacre\n",
      "Mots les plus fréquents [('film', 13), ('massacre', 10), ('one', 9), ('texas', 9), ('chainsaw', 9), ('movie', 9), ('franchise', 8), ('horror', 6), ('original', 6), ('halloween', 6)]\n",
      "\n",
      "Hatching\n",
      "Mots les plus fréquents [('rather', 3), ('young', 2), ('mother', 2), ('creature', 2), ('develops', 2), ('increasing', 2), ('bit', 2), ('really', 2), ('though', 2), ('bird', 1)]\n",
      "\n",
      "No Exit\n",
      "Mots les plus fréquents [('review', 3), ('full', 2), ('spoiler', 2), ('free', 2), ('exit', 2), ('one', 2), ('year', 2), ('work', 2), ('https', 1), ('www', 1)]\n",
      "\n",
      "Gold\n",
      "Mots les plus fréquents [('efron', 3), ('hayes', 3), ('good', 3), ('zac', 2), ('desert', 2), ('try', 2), ('well', 2), ('watch', 2), ('gradually', 2), ('even', 2)]\n",
      "\n",
      "Shut In\n",
      "Mots les plus fréquents [('film', 4), ('fantastic', 2), ('interesting', 2), ('hollywood', 2), ('really', 2), ('way', 2), ('location', 2), ('story', 2), ('high', 2), ('exactly', 1)]\n",
      "\n",
      "Jackass Forever\n",
      "Mots les plus fréquents [('jackass', 4), ('fat', 4), ('like', 3), ('even', 3), ('forever', 2), ('one', 2), ('blood', 2), ('knoxville', 2), ('jf', 2), ('broken', 2)]\n",
      "\n",
      "The In Between\n",
      "Mots les plus fréquents [('film', 6), ('good', 6), ('well', 5), ('know', 4), ('however', 4), ('religion', 4), ('existence', 4), ('teenage', 3), ('love', 3), ('faith', 3)]\n",
      "\n",
      "Dual\n",
      "Mots les plus fréquents [('dual', 7), ('thought', 6), ('film', 6), ('full', 4), ('review', 4), ('movie', 4), ('riley', 3), ('stearns', 3), ('interesting', 3), ('karen', 3)]\n",
      "\n",
      "Windfall\n",
      "Mots les plus fréquents [('windfall', 5), ('plemons', 2), ('small', 2), ('story', 2), ('attention', 2), ('play', 2), ('film', 2), ('would', 2), ('characters', 2), ('cool', 1)]\n",
      "\n",
      "Marry Me\n",
      "Mots les plus fréquents [('marry', 7), ('lopez', 6), ('wilson', 6), ('show', 5), ('com', 4), ('make', 4), ('audience', 4), ('rom', 3), ('jennifer', 3), ('owen', 3)]\n",
      "\n",
      "Against the Ice\n",
      "Mots les plus fréquents [('ice', 5), ('like', 5), ('one', 4), ('bear', 3), ('way', 3), ('day', 3), ('cgi', 2), ('mean', 2), ('scene', 2), ('movie', 2)]\n",
      "\n",
      "Dragon Knight\n",
      "Mots les plus fréquents [('rather', 3), ('much', 2), ('dragon', 2), ('limited', 2), ('well', 2), ('still', 2), ('trying', 2), ('hard', 2), ('talent', 2), ('good', 1)]\n",
      "\n",
      "Downfall: The Case Against Boeing\n",
      "Mots les plus fréquents [('although', 1), ('read', 1), ('technical', 1), ('details', 1), ('cause', 1), ('crashes', 1), ('paper', 1), ('aware', 1), ('insanely', 1), ('unforgiving', 1)]\n",
      "\n",
      "The Cellar\n",
      "Mots les plus fréquents [('horror', 6), ('audience', 6), ('movie', 5), ('modern', 4), ('movies', 4), ('classic', 3), ('good', 3), ('things', 3), ('everyday', 3), ('dark', 3)]\n",
      "\n",
      "Cheaper by the Dozen\n",
      "Mots les plus fréquents [('em', 6), ('href', 3), ('https', 3), ('rel', 3), ('nofollow', 3), ('film', 3), ('bad', 2), ('cheaper', 2), ('dozen', 2), ('come', 2)]\n",
      "\n",
      "Catch the Fair One\n",
      "Mots les plus fréquents [('ending', 6), ('ctfo', 4), ('boxing', 3), ('one', 3), ('something', 3), ('say', 3), ('even', 3), ('two', 2), ('shorter', 2), ('like', 2)]\n",
      "\n",
      "Munich: The Edge of War\n",
      "Mots les plus fréquents [('war', 6), ('film', 4), ('history', 3), ('munich', 3), ('tension', 3), ('right', 3), ('two', 3), ('back', 3), ('hitler', 3), ('movie', 3)]\n",
      "\n",
      "Brazen\n",
      "Mots les plus fréquents [('grace', 11), ('would', 8), ('brazen', 6), ('kathleen', 5), ('milano', 4), ('life', 4), ('ed', 4), ('mind', 4), ('ordinary', 3), ('even', 3)]\n",
      "\n",
      "Catwoman: Hunted\n",
      "Mots les plus fréquents [('catwoman', 2), ('okay', 1), ('animated', 1), ('movie', 1), ('weird', 1), ('editing', 1), ('pacing', 1), ('liked', 1), ('designs', 1), ('especially', 1)]\n",
      "\n",
      "Shattered\n",
      "Mots les plus fréquents [('old', 2), ('malkovich', 2), ('least', 2), ('time', 2), ('fashioned', 1), ('anyway', 1), ('plot', 1), ('acting', 1), ('okay', 1), ('cameron', 1)]\n",
      "\n",
      "Eraser: Reborn\n",
      "Mots les plus fréquents [('bad', 2), ('another', 1), ('lame', 1), ('direct', 1), ('video', 1), ('film', 1), ('could', 1), ('called', 1), ('anything', 1), ('else', 1)]\n",
      "\n",
      "The Pirates: The Last Royal Treasure\n",
      "Mots les plus fréquents [('well', 1), ('made', 1), ('korean', 1), ('movie', 1), ('watch', 1), ('subtitles', 1), ('bummer', 1)]\n",
      "\n",
      "Studio 666\n",
      "Mots les plus fréquents [('studio', 5), ('would', 4), ('like', 4), ('even', 3), ('foo', 3), ('fighters', 3), ('movie', 3), ('grohl', 3), ('make', 3), ('playing', 2)]\n",
      "\n",
      "The Tinder Swindler\n",
      "Mots les plus fréquents [('kind', 3), ('wild', 1), ('story', 1), ('whenever', 1), ('see', 1), ('film', 1), ('subject', 1), ('matter', 1), ('always', 1), ('certain', 1)]\n",
      "\n",
      "Rise\n",
      "Mots les plus fréquents [('like', 3), ('shots', 3), ('unwatchable', 2), ('hdr', 2), ('see', 2), ('looking', 2), ('night', 2), ('perhaps', 1), ('stream', 1), ('somewhere', 1)]\n",
      "\n",
      "Ennio\n",
      "Mots les plus fréquents [('see', 3), ('music', 3), ('films', 3), ('great', 2), ('cinema', 2), ('john', 2), ('many', 2), ('little', 2), ('well', 2), ('truly', 2)]\n",
      "\n",
      "Tyler Perry's A Madea Homecoming\n",
      "Mots les plus fréquents [('film', 5), ('seems', 4), ('even', 4), ('blm', 3), ('jokes', 3), ('made', 2), ('movement', 2), ('seem', 2), ('parody', 2), ('outdated', 2)]\n",
      "\n",
      "Better Nate Than Ever\n",
      "Mots les plus fréquents [('like', 2), ('one', 1), ('really', 1), ('fantastic', 1), ('musical', 1), ('number', 1), ('rest', 1), ('film', 1), ('ranges', 1), ('alright', 1)]\n",
      "\n",
      "The King's Daughter\n",
      "Mots les plus fréquents [('brosnan', 4), ('positive', 4), ('daughter', 3), ('story', 3), ('good', 3), ('way', 3), ('pierce', 3), ('kaya', 3), ('reviews', 2), ('https', 2)]\n",
      "\n",
      "Notre-Dame on Fire\n",
      "Mots les plus fréquents [('really', 3), ('roof', 2), ('well', 2), ('quite', 2), ('real', 2), ('us', 2), ('fire', 2), ('whilst', 2), ('around', 2), ('matter', 2)]\n",
      "\n",
      "After Yang\n",
      "Mots les plus fréquents [('yang', 14), ('movie', 8), ('chinese', 6), ('film', 6), ('jake', 5), ('review', 4), ('farrell', 4), ('memory', 4), ('mika', 4), ('found', 3)]\n",
      "\n",
      "Marvel Studios Assembled: The Making of Eternals\n",
      "Mots les plus fréquents [('highlights', 1), ('lot', 1), ('strengths', 1), ('eternals', 1), ('notice', 1), ('initially', 1), ('details', 1), ('production', 1), ('design', 1), ('especially', 1)]\n",
      "\n",
      "Measure of Revenge\n",
      "Mots les plus fréquents [('lillian', 8), ('curtis', 5), ('crazy', 4), ('hamlet', 4), ('revenge', 3), ('taz', 3), ('like', 2), ('one', 2), ('diaz', 2), ('bitch', 2)]\n",
      "\n",
      "I Want You Back\n",
      "Mots les plus fréquents [('know', 2), ('time', 2), ('fun', 2), ('sometimes', 1), ('destination', 1), ('journey', 1), ('rom', 1), ('com', 1), ('going', 1), ('end', 1)]\n",
      "\n",
      "Master\n",
      "Mots les plus fréquents [('spoiler', 2), ('free', 2), ('review', 2), ('master', 2), ('well', 2), ('point', 2), ('feel', 2), ('full', 1), ('https', 1), ('www', 1)]\n",
      "\n",
      "Full Time\n",
      "Mots les plus fréquents [('like', 2), ('person', 2), ('calamy', 2), ('trying', 2), ('juggle', 2), ('children', 2), ('job', 2), ('keep', 2), ('us', 2), ('things', 2)]\n",
      "\n",
      "Apollo 10½:  A Space Age Childhood\n",
      "Mots les plus fréquents [('linklater', 7), ('movie', 7), ('life', 6), ('time', 6), ('even', 6), ('sense', 5), ('film', 5), ('apollo', 4), ('story', 4), ('yet', 4)]\n",
      "\n",
      "Embrace the Panda: Making Turning Red\n",
      "Mots les plus fréquents [('film', 4), ('like', 3), ('crew', 3), ('turning', 2), ('red', 2), ('though', 2), ('interesting', 2), ('actual', 2), ('always', 2), ('stuff', 2)]\n",
      "\n",
      "Nobody Has to Know\n",
      "Mots les plus fréquents [('really', 3), ('rather', 3), ('sunny', 2), ('well', 2), ('phil', 2), ('enough', 2), ('man', 2), ('fairley', 2), ('quite', 2), ('near', 1)]\n",
      "\n",
      "Big Gold Brick\n",
      "Mots les plus fréquents [('movie', 7), ('never', 7), ('even', 3), ('samuel', 3), ('like', 3), ('one', 3), ('gold', 2), ('book', 2), ('said', 2), ('scrape', 2)]\n",
      "\n",
      "Kung-Fu Zohra\n",
      "Mots les plus fréquents [('oh', 3), ('dear', 2), ('cast', 2), ('thing', 2), ('abuser', 2), ('much', 2), ('martial', 2), ('arts', 2), ('boy', 2), ('feel', 2)]\n",
      "\n",
      "Between Two Worlds\n",
      "Mots les plus fréquents [('marianne', 3), ('work', 3), ('pretty', 3), ('film', 3), ('well', 3), ('binoche', 2), ('employment', 2), ('e', 2), ('folks', 2), ('little', 2)]\n",
      "\n",
      "The Fourth Musketeer\n",
      "Mots les plus fréquents [('story', 2), ('drama', 2), ('un', 2), ('college', 2), ('afraid', 2), ('say', 2), ('told', 1), ('way', 1), ('rather', 1), ('denouement', 1)]\n",
      "\n",
      "Cider and Sunsets\n",
      "Mots les plus fréquents [('movie', 3), ('main', 2), ('characters', 2), ('mediocre', 1), ('three', 1), ('star', 1), ('chemistry', 1), ('storyline', 1), ('little', 1), ('ended', 1)]\n",
      "\n",
      "Cat Burglar\n",
      "Mots les plus fréquents [('pretty', 1), ('fun', 1), ('play', 1), ('art', 1), ('direction', 1), ('animation', 1), ('feels', 1), ('like', 1), ('love', 1), ('letter', 1)]\n",
      "\n",
      "A Banquet\n",
      "Mots les plus fréquents [('betsey', 7), ('moon', 4), ('lunar', 4), ('may', 3), ('banquet', 3), ('prophecies', 3), ('end', 3), ('way', 3), ('movie', 2), ('either', 2)]\n",
      "\n",
      "Hey! Sinamika\n",
      "Mots les plus fréquents [('love', 4), ('hey', 3), ('sinamika', 3), ('mouna', 3), ('spotamovie', 2), ('com', 2), ('us', 2), ('ones', 2), ('story', 2), ('yaazhan', 2)]\n",
      "\n",
      "Softie\n",
      "Mots les plus fréquents [('nothing', 1), ('new', 1), ('gay', 1), ('coming', 1), ('age', 1), ('film', 1), ('seen', 1), ('good', 1), ('ones', 1), ('yet', 1)]\n",
      "\n",
      "Robust\n",
      "Mots les plus fréquents [('quite', 5), ('lukumuena', 2), ('good', 2), ('depardieu', 2), ('story', 2), ('borah', 1), ('really', 1), ('wresting', 1), ('bodyguard', 1), ('assigned', 1)]\n",
      "\n",
      "Rosodium\n",
      "Mots les plus fréquents [('quite', 5), ('start', 3), ('rather', 3), ('trip', 2), ('lohan', 2), ('two', 2), ('gradually', 2), ('trying', 2), ('hour', 2), ('noah', 1)]\n",
      "\n",
      "Dogfriend\n",
      "Mots les plus fréquents [('malik', 1), ('lamin', 1), ('leroy', 1), ('gibba', 1), ('invites', 1), ('pal', 1), ('phillip', 1), ('til', 1), ('schindler', 1), ('round', 1)]\n",
      "\n",
      "Black Constellation\n",
      "Mots les plus fréquents [('thought', 1), ('provoking', 1), ('drama', 1), ('tackles', 1), ('important', 1), ('subject', 1), ('matters', 1), ('sexual', 1), ('abuse', 1), ('grief', 1)]\n",
      "\n"
     ]
    },
    {
     "name": "stderr",
     "output_type": "stream",
     "text": [
      "[nltk_data] Downloading package stopwords to\n",
      "[nltk_data]     C:\\Users\\pc\\AppData\\Roaming\\nltk_data...\n",
      "[nltk_data]   Package stopwords is already up-to-date!\n"
     ]
    }
   ],
   "source": [
    "import json\n",
    "from collections import Counter\n",
    "import re\n",
    "from nltk.corpus import stopwords\n",
    "import nltk\n",
    "\n",
    "nltk.download('stopwords')\n",
    "stop_words = set(stopwords.words('english'))\n",
    "\n",
    "def clean_avis(text):\n",
    "    text = re.sub('[^a-zA-Z]', ' ', text).lower()\n",
    "    words = [word for word in text.split() if word not in stop_words]\n",
    "    return words\n",
    "\n",
    "def analyse_word_freq(movie_reviews):\n",
    "    all_words = []\n",
    "    for review in movie_reviews:\n",
    "        all_words.extend(clean_avis(review['content']))\n",
    "    word_counts = Counter(all_words)\n",
    "    most_common_words = word_counts.most_common(10)\n",
    "    return most_common_words\n",
    "\n",
    "with open('movies_details_3mois.json', 'r') as file:\n",
    "    movies_details = json.load(file)\n",
    "\n",
    "word_freq_film = {}\n",
    "\n",
    "for movie_id, movie_details in movies_details.items():\n",
    "    reviews = movie_details['reviews']['results']\n",
    "    most_common_words = analyse_word_freq(reviews)\n",
    "    word_freq_film[movie_id] = most_common_words\n",
    "\n",
    "for movie_id, frequencies in word_freq_film.items():\n",
    "    #print(f\"Film ID {movie_id}: Mots les plus fréquents - {frequencies}\")\n",
    "    print(f\"{movies_details[movie_id]['title']}\\nMots les plus fréquents {frequencies}\\n\")"
   ]
  },
  {
   "cell_type": "markdown",
   "metadata": {},
   "source": [
    "Après réfléxion, au vu du peu d'avis récupérés sur TMDB voir même de l'absence d'avis pour certains films, nous avons décidé d'élargir notre base de données en récupérant les données des films sur une plus large période. Nous avons donc décidé de récupérer les données des films sortis pendant l'année 2022 sur les mois de X à Y en retirant les films qui n'avaient pas d'avis sur TMDB.\n",
    "\n",
    "<font color=\"red\">MODIFIER DATES</font>\n"
   ]
  },
  {
   "cell_type": "markdown",
   "metadata": {},
   "source": [
    "Création et génération des WordClouds :"
   ]
  },
  {
   "cell_type": "code",
   "execution_count": 21,
   "metadata": {},
   "outputs": [],
   "source": [
    "from wordcloud import WordCloud\n",
    "import matplotlib.pyplot as plt\n",
    "\n",
    "def create_wordcloud(text, movie_id):\n",
    "    wordcloud = WordCloud(width = 800, height = 800, \n",
    "                background_color ='white', \n",
    "                stopwords = stop_words, \n",
    "                min_font_size = 10).generate(' '.join(text))\n",
    "    wordcloud.to_file(f\"static/wordclouds/{movie_id}.png\")\n",
    "for movie_id, movie_details in movies_details.items():\n",
    "    reviews = movie_details['reviews']['results']\n",
    "    review_text = [review['content'] for review in reviews]\n",
    "    cleaned_text = []\n",
    "    for text in review_text:\n",
    "        cleaned_text.extend(clean_avis(text))\n",
    "    create_wordcloud(cleaned_text, movie_id)"
   ]
  },
  {
   "cell_type": "markdown",
   "metadata": {},
   "source": [
    "#### <u> Analyse de sentiments sur les commentaires récupérés sur TMDB</u>"
   ]
  },
  {
   "cell_type": "markdown",
   "metadata": {},
   "source": [
    "#### <u> Création de l'application interactive</u>"
   ]
  },
  {
   "cell_type": "code",
   "execution_count": 40,
   "metadata": {},
   "outputs": [
    {
     "name": "stdout",
     "output_type": "stream",
     "text": [
      " * Serving Flask app '__main__'\n",
      " * Debug mode: off\n"
     ]
    },
    {
     "name": "stderr",
     "output_type": "stream",
     "text": [
      "WARNING: This is a development server. Do not use it in a production deployment. Use a production WSGI server instead.\n",
      " * Running on http://127.0.0.1:5000\n",
      "Press CTRL+C to quit\n",
      "127.0.0.1 - - [17/Dec/2023 19:10:57] \"GET / HTTP/1.1\" 200 -\n",
      "127.0.0.1 - - [17/Dec/2023 19:10:59] \"POST / HTTP/1.1\" 200 -\n"
     ]
    }
   ],
   "source": [
    "from flask import Flask, render_template, request\n",
    "import json\n",
    "from watchdog.events import EVENT_TYPE_CREATED\n",
    "\n",
    "app = Flask(__name__)\n",
    "\n",
    "@app.route('/', methods=['GET', 'POST'])\n",
    "def index():\n",
    "    with open('movies_details_3mois.json', 'r') as file:\n",
    "        movies_details = json.load(file)\n",
    "    \n",
    "    movies_list = [(movie['reviews']['id'], movie['title']) \n",
    "                for movie in movies_details.values() \n",
    "                if 'reviews' in movie and 'results' in movie['reviews'] and movie['reviews']['results']]\n",
    "\n",
    "    selected_movie_id = None\n",
    "    selected_movie_title = None\n",
    "    if request.method == 'POST':\n",
    "        selected_movie_id = request.form.get('movie')\n",
    "        selected_movie_title = next((title for id, title in movies_list if id == selected_movie_id), None)\n",
    "\n",
    "    return render_template('index.html', movies_list=movies_list, selected_movie_id=selected_movie_id, selected_movie_title=selected_movie_title)\n",
    "\n",
    "if __name__ == '__main__':\n",
    "    app.run(debug=False, use_reloader=False)\n"
   ]
  }
 ],
 "metadata": {
  "kernelspec": {
   "display_name": "base",
   "language": "python",
   "name": "python3"
  },
  "language_info": {
   "codemirror_mode": {
    "name": "ipython",
    "version": 3
   },
   "file_extension": ".py",
   "mimetype": "text/x-python",
   "name": "python",
   "nbconvert_exporter": "python",
   "pygments_lexer": "ipython3",
   "version": "3.11.5"
  }
 },
 "nbformat": 4,
 "nbformat_minor": 2
}
