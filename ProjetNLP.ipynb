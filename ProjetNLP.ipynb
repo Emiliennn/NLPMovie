{
 "cells": [
  {
   "cell_type": "markdown",
   "metadata": {},
   "source": [
    "#### Introduction et objectifs du projet\n",
    "\n",
    "##### Contexte :\n",
    "\n",
    "L'analyse de sentiments est un domaine essentiel en science des données, en particulier en NLP. Elle utilise le machine learning et la linguistique pour détecter, extraire et étudier les émotions et les informations subjectives dans les textes sources.\n",
    "\n",
    "Dans le contexte des avis de films, l'analyse de sentiments permet de comprendre les perceptions et les émotions des spectateurs à partir de leurs commentaires, ce qui est précieux pour les critiques de films, les studios de cinéma et les plateformes de streaming.\n",
    "\n",
    "##### Objectifs :\n",
    "\n",
    "Ce projet vise à développer une application interactive en Python permettant aux utilisateurs de demander des analyses de sentiments sur des films spécifiques. Les objectifs de l'application sont les suivants :\n",
    "\n",
    "1. Permettre aux utilisateurs de saisir un titre de film ou son ID pour récupérer des avis pertinents.\n",
    "\n",
    "\n",
    "2. Analyser les sentiments exprimés dans ces avis, en calculant la polarité (positivité ou négativité des sentiments) et la subjectivité (mesure de l'opinion personnelle par rapport à un fait objectif) des commentaires.\n",
    "\n",
    "3. Comparer les notations (ratings) des films avec la polarité des avis pour voir si les évaluations numériques correspondent aux sentiments exprimés dans les commentaires.\n",
    "\n",
    "4. Examiner les différences, le cas échéant, entre les sentiments exprimés avant et après la sortie du film, fournissant ainsi une perspective unique sur l'évolution des perceptions des spectateurs.\n",
    "\n",
    "##### <u>Méthodes de récupération des données :</u>\n",
    "\n",
    "Dans un premier temps, pour éviter de surcharger l'API de TMDB et de devoir gérer des bases de données trop volumineuses, nous avons décidé de limiter notre étude aux films sortis entre x et y. Une fois cette sélection effectuée, nous avons procédé à la récupération des données via 3 méthodes différentes :\n",
    "\n",
    "- L'API de TMDB :\n",
    "- Scraping du site : imdb.com\n",
    "- Utilisation de la librairie python : imdbpy\n",
    "\n",
    "L'objectif de cette section est de comparer les différentes méthodes de récupération des données afin de déterminer laquelle est la plus efficace et la plus pertinente pour notre projet.\n",
    "Il était question de jamais la récupération des données via une méthode s'avère trop complexe, nous pourrons toujours nous rabattre sur une autre méthode.\n",
    "Dans une première approche il était question de tester les 3 méthodes, voir les avantages et inconvénients de chacune d'entre elles, de savoir si elles étaient complémentaires ou non, et de déterminer laquelle était la plus efficace et la plus pertinente pour notre projet.\n"
   ]
  }
 ],
 "metadata": {
  "kernelspec": {
   "display_name": "base",
   "language": "python",
   "name": "python3"
  },
  "language_info": {
   "name": "python",
   "version": "3.11.5"
  }
 },
 "nbformat": 4,
 "nbformat_minor": 2
}
