{
 "cells": [
  {
   "cell_type": "markdown",
   "metadata": {},
   "source": [
    "#### Introduction et objectifs du projet\n",
    "\n",
    "##### <u>Contexte :</u>\n",
    "\n",
    "L'analyse de sentiments est un domaine essentiel en science des données, en particulier en NLP. Elle utilise le machine learning et la linguistique pour détecter, extraire et étudier les émotions et les informations subjectives dans les textes sources.\n",
    "\n",
    "Dans le contexte des avis de films, l'analyse de sentiments permet de comprendre les perceptions et les émotions des spectateurs à partir de leurs commentaires, ce qui est précieux pour les critiques de films, les studios de cinéma et les plateformes de streaming.\n",
    "\n",
    "##### <u>Objectifs :</u>\n",
    "\n",
    "Ce projet vise à développer une application interactive en Python permettant aux utilisateurs de demander des analyses de sentiments sur des films spécifiques. Les objectifs de l'application sont les suivants :\n",
    "\n",
    "1. Permettre aux utilisateurs de saisir un titre de film ou son ID pour récupérer des avis pertinents.\n",
    "\n",
    "2. Analyser les sentiments exprimés dans ces avis, en calculant la polarité (positivité ou négativité des sentiments) et la subjectivité (mesure de l'opinion personnelle par rapport à un fait objectif) des commentaires.\n",
    "\n",
    "3. Comparer les \"ratings\" (notes) des films avec la polarité des avis pour voir si les évaluations numériques correspondent aux sentiments exprimés dans les commentaires.\n",
    "\n",
    "4. Examiner les différences, le cas échéant, entre les sentiments exprimés avant et après la sortie du film, fournissant ainsi une perspective unique sur l'évolution des perceptions des spectateurs.\n",
    "\n",
    "##### <u>Méthodes de récupération des données :</u>\n",
    "\n",
    "Dans un premier temps, pour éviter de surcharger l'API de TMDB et de devoir gérer des bases de données trop volumineuses, nous avons décidé de limiter notre étude aux films sortis entre x et y. Une fois cette sélection effectuée, nous avons procédé à la récupération des données via 3 méthodes différentes :\n",
    "\n",
    "- L'API de TMDB : \"https://developers.themoviedb.org/3/\"\n",
    "- Scraping du site : imdb.com (via la librairie python : beautifulsoup4)\n",
    "- Utilisation de la librairie python : imdbpy\n",
    "\n",
    "L'objectif de cette section est de comparer les différentes méthodes de récupération des données afin de déterminer laquelle est la plus efficace et la plus pertinente pour notre projet.\n",
    "Dans une première approche il était question de tester les 3 méthodes, voir les avantages et inconvénients de chacune d'entre elles, de savoir si elles étaient complémentaires ou non, et de déterminer laquelle était la plus efficace et la plus pertinente pour notre projet.\n",
    "\n",
    "Dans un second temps l'objectif est de structurer les données récupérées afin de pouvoir les exploiter dans la suite du projet. Si possible par une seule des méthodes de récupération des données mentionnées ci-dessus.\n",
    "\n",
    "Ensuite, il s'agira de mettre en place une méthode d'analyse de sentiments sur les commentaires récupérés, il existe des librairies python qui permettent de faire cela, mais il est également possible de créer notre propre méthode d'analyse de sentiments. \n",
    "\n",
    "Choix numéro 1 : Réaliser nos propres méthodes d'analyse de sentiments.\n",
    "\n",
    "Choix numéro 2 : Utiliser des librairies python existantes tel que : TextBlob, NLTK.\n",
    "\n",
    "Enfin il s'agira de mettre en place une application interactive en python permettant aux utilisateurs de demander des analyses de sentiments sur des films spécifiques.\n"
   ]
  },
  {
   "cell_type": "markdown",
   "metadata": {},
   "source": [
    "#### <u>Partie 1 : import des librairies</u>\n",
    "\n",
    "- package imdb à importer via le code ci-dessous : (important qu'il soit installé sur la machine et qu'il soit à jour)"
   ]
  },
  {
   "cell_type": "code",
   "execution_count": null,
   "metadata": {},
   "outputs": [],
   "source": [
    "#pip install git+https://github.com/santhoshse7en/imdb"
   ]
  },
  {
   "cell_type": "code",
   "execution_count": 3,
   "metadata": {},
   "outputs": [],
   "source": [
    "#from imdb import IMDb\n",
    "from bs4 import BeautifulSoup\n",
    "from textblob import TextBlob\n",
    "import requests\n",
    "from datetime import datetime\n",
    "import json\n",
    "import re\n",
    "import pandas as pd"
   ]
  },
  {
   "cell_type": "markdown",
   "metadata": {},
   "source": [
    "- Appel de la clé API de TMDB "
   ]
  },
  {
   "cell_type": "code",
   "execution_count": 4,
   "metadata": {},
   "outputs": [],
   "source": [
    "with open('clefAPI.json', 'r') as config_file:\n",
    "    config = json.load(config_file)\n",
    "\n",
    "api_key = config['tmdb']['api_key']"
   ]
  },
  {
   "cell_type": "markdown",
   "metadata": {},
   "source": [
    "Première étape : on va tester notre procédé sur un seul film, pour voir si ça fonctionne, et si oui, on pourra ensuite l'appliquer à tous les films de notre base de données.\n",
    "\n",
    "The Shawshank Redemption : ID sur le site de TMDB : tt0111161"
   ]
  },
  {
   "cell_type": "code",
   "execution_count": 7,
   "metadata": {},
   "outputs": [],
   "source": [
    "film_id = 'tt0111161'\n",
    "\n",
    "url_date_release = f\"https://api.themoviedb.org/3/movie/{film_id}?api_key={api_key}&language=en-US\"\n",
    "\n",
    "response = requests.get(url_date_release)\n",
    "\n",
    "if response.status_code == 200:\n",
    "    film_details = response.json()\n",
    "    date_sortie_str = film_details.get(\"release_date\", \"\")\n",
    "    if date_sortie_str:\n",
    "        date_sortie = datetime.strptime(date_sortie_str, \"%Y-%m-%d\")\n",
    "        print(f\"Date de sortie du film : {date_sortie}\")\n",
    "    else:\n",
    "        print(\"Date de sortie non trouvée\")\n",
    "else:\n",
    "    print(\"Erreur lors de la requête :\", response.status_code)\n",
    "\n",
    "url_film = f\"https://www.imdb.com/title/{film_id}/reviews\" # Récupérer les avis sur IMDb\n",
    "\n",
    "response = requests.get(url_film)\n",
    "\n",
    "reviews_dict = {}\n",
    "\n",
    "if response.status_code == 200:\n",
    "    soup = BeautifulSoup(response.content, 'html.parser')\n",
    "    review_elements = soup.find_all('div', class_='review-container')\n",
    "    for element in review_elements:\n",
    "        review_text = element.find('div', class_='text show-more__control').get_text().strip()\n",
    "        review_date_str = element.find('span', class_='review-date').get_text().strip()\n",
    "        review_date = datetime.strptime(review_date_str, '%d %B %Y').date()\n",
    "        reviews_dict[review_date] = review_text\n",
    "else:\n",
    "    print(\"Erreur lors de la requête :\", response.status_code)\n",
    "\n",
    "print(\"Nombre d'avis pour ce film :\",len(reviews_dict)) "
   ]
  }
 ],
 "metadata": {
  "kernelspec": {
   "display_name": "base",
   "language": "python",
   "name": "python3"
  },
  "language_info": {
   "codemirror_mode": {
    "name": "ipython",
    "version": 3
   },
   "file_extension": ".py",
   "mimetype": "text/x-python",
   "name": "python",
   "nbconvert_exporter": "python",
   "pygments_lexer": "ipython3",
   "version": "3.11.5"
  }
 },
 "nbformat": 4,
 "nbformat_minor": 2
}
