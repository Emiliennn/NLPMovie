{
 "cells": [
  {
   "cell_type": "markdown",
   "metadata": {},
   "source": [
    "# Méthodes utilisées pour la collecte sur le site IMDb\n",
    "\n",
    "Comme évoqué dans le rapport pdf, ce document garde une trace des premiers codes qui ont été utilisés pour collecter des données sur le site IMDb. Nous ne les avons au final pas utilisé dans le projet mais nous gardons ici une trace de cette étape."
   ]
  },
  {
   "cell_type": "markdown",
   "metadata": {},
   "source": [
    "## Utilisation de la librairie Python imdbpy\n",
    "\n",
    "<font color=\"red\">Le package imdb est à importer via le code ci-dessous :</font>\n",
    "\n",
    "```bash\n",
    "pip install git+https://github.com/santhoshse7en/imdb\n",
    "```"
   ]
  },
  {
   "cell_type": "code",
   "execution_count": null,
   "metadata": {},
   "outputs": [],
   "source": [
    "# from cinemagoer import IMDb\n",
    "# ia = IMDb()\n",
    "# movie = ia.get_movie('0111161')  # Pour 'The Shawshank Redemption'\n",
    "# print(movie['title'])  # Afficher le titre du film\n",
    "#!pip show IMDbPY"
   ]
  },
  {
   "cell_type": "markdown",
   "metadata": {},
   "source": [
    "## Collecte via un scraping du site web"
   ]
  },
  {
   "cell_type": "code",
   "execution_count": null,
   "metadata": {},
   "outputs": [],
   "source": [
    "def get_imdb_reviews(movie_id): # FONCTIONNE\n",
    "    url = f\"https://www.imdb.com/title/{movie_id}/reviews\"\n",
    "    response = requests.get(url)\n",
    "    reviews = {}\n",
    "    if response.status_code == 200:\n",
    "        soup = BeautifulSoup(response.content, 'html.parser')\n",
    "        review_elements = soup.find_all('div', class_='review-container')\n",
    "        if not review_elements:\n",
    "            print(f\"Aucune critique trouvée pour {movie_id}\")\n",
    "            return reviews\n",
    "        for element in review_elements:\n",
    "            review_text = element.find('div', class_='text show-more__control').get_text().strip()\n",
    "            review_date = datetime.strptime(element.find('span', class_='review-date').get_text(), '%d %B %Y')\n",
    "            reviews[review_date] = review_text\n",
    "    else:\n",
    "        print(f\"Erreur lors de la récupération des avis pour {movie_id}: {response.status_code}\")\n",
    "    return reviews\n",
    "\n",
    "print(get_imdb_reviews('tt0111161'))"
   ]
  }
 ],
 "metadata": {
  "language_info": {
   "name": "python"
  }
 },
 "nbformat": 4,
 "nbformat_minor": 2
}
